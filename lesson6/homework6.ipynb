{
  "nbformat": 4,
  "nbformat_minor": 0,
  "metadata": {
    "kernelspec": {
      "display_name": "Python 3",
      "language": "python",
      "name": "python3"
    },
    "language_info": {
      "codemirror_mode": {
        "name": "ipython",
        "version": 3
      },
      "file_extension": ".py",
      "mimetype": "text/x-python",
      "name": "python",
      "nbconvert_exporter": "python",
      "pygments_lexer": "ipython3",
      "version": "3.7.3"
    },
    "colab": {
      "name": "homework6.ipynb",
      "provenance": [],
      "collapsed_sections": []
    },
    "accelerator": "GPU",
    "widgets": {
      "application/vnd.jupyter.widget-state+json": {
        "d35f7f9db3d34221aa5828257c06d150": {
          "model_module": "@jupyter-widgets/controls",
          "model_name": "HBoxModel",
          "model_module_version": "1.5.0",
          "state": {
            "_view_name": "HBoxView",
            "_dom_classes": [],
            "_model_name": "HBoxModel",
            "_view_module": "@jupyter-widgets/controls",
            "_model_module_version": "1.5.0",
            "_view_count": null,
            "_view_module_version": "1.5.0",
            "box_style": "",
            "layout": "IPY_MODEL_03c86893348941a8a9bdb9ebbcf591a3",
            "_model_module": "@jupyter-widgets/controls",
            "children": [
              "IPY_MODEL_0022b1db330842af83686e4d289e5c33",
              "IPY_MODEL_9304b8169b7a4f3280d7824a5c321187",
              "IPY_MODEL_b18bee43c32548049be8ca2302dc4879"
            ]
          }
        },
        "03c86893348941a8a9bdb9ebbcf591a3": {
          "model_module": "@jupyter-widgets/base",
          "model_name": "LayoutModel",
          "model_module_version": "1.2.0",
          "state": {
            "_view_name": "LayoutView",
            "grid_template_rows": null,
            "right": null,
            "justify_content": null,
            "_view_module": "@jupyter-widgets/base",
            "overflow": null,
            "_model_module_version": "1.2.0",
            "_view_count": null,
            "flex_flow": null,
            "width": null,
            "min_width": null,
            "border": null,
            "align_items": null,
            "bottom": null,
            "_model_module": "@jupyter-widgets/base",
            "top": null,
            "grid_column": null,
            "overflow_y": null,
            "overflow_x": null,
            "grid_auto_flow": null,
            "grid_area": null,
            "grid_template_columns": null,
            "flex": null,
            "_model_name": "LayoutModel",
            "justify_items": null,
            "grid_row": null,
            "max_height": null,
            "align_content": null,
            "visibility": null,
            "align_self": null,
            "height": null,
            "min_height": null,
            "padding": null,
            "grid_auto_rows": null,
            "grid_gap": null,
            "max_width": null,
            "order": null,
            "_view_module_version": "1.2.0",
            "grid_template_areas": null,
            "object_position": null,
            "object_fit": null,
            "grid_auto_columns": null,
            "margin": null,
            "display": null,
            "left": null
          }
        },
        "0022b1db330842af83686e4d289e5c33": {
          "model_module": "@jupyter-widgets/controls",
          "model_name": "HTMLModel",
          "model_module_version": "1.5.0",
          "state": {
            "_view_name": "HTMLView",
            "style": "IPY_MODEL_66b88aa534b24d7d86141462bc6f7ac1",
            "_dom_classes": [],
            "description": "",
            "_model_name": "HTMLModel",
            "placeholder": "​",
            "_view_module": "@jupyter-widgets/controls",
            "_model_module_version": "1.5.0",
            "value": "100%",
            "_view_count": null,
            "_view_module_version": "1.5.0",
            "description_tooltip": null,
            "_model_module": "@jupyter-widgets/controls",
            "layout": "IPY_MODEL_51e3b147d5d744e9a8321cb64a2412c3"
          }
        },
        "9304b8169b7a4f3280d7824a5c321187": {
          "model_module": "@jupyter-widgets/controls",
          "model_name": "FloatProgressModel",
          "model_module_version": "1.5.0",
          "state": {
            "_view_name": "ProgressView",
            "style": "IPY_MODEL_d203acbafa644c4cb30b0792049b3941",
            "_dom_classes": [],
            "description": "",
            "_model_name": "FloatProgressModel",
            "bar_style": "success",
            "max": 15,
            "_view_module": "@jupyter-widgets/controls",
            "_model_module_version": "1.5.0",
            "value": 15,
            "_view_count": null,
            "_view_module_version": "1.5.0",
            "orientation": "horizontal",
            "min": 0,
            "description_tooltip": null,
            "_model_module": "@jupyter-widgets/controls",
            "layout": "IPY_MODEL_8493cff086c44ac7a45a449643a7e07f"
          }
        },
        "b18bee43c32548049be8ca2302dc4879": {
          "model_module": "@jupyter-widgets/controls",
          "model_name": "HTMLModel",
          "model_module_version": "1.5.0",
          "state": {
            "_view_name": "HTMLView",
            "style": "IPY_MODEL_e828f81687af497bba936f282c5b9ac8",
            "_dom_classes": [],
            "description": "",
            "_model_name": "HTMLModel",
            "placeholder": "​",
            "_view_module": "@jupyter-widgets/controls",
            "_model_module_version": "1.5.0",
            "value": " 15/15 [00:11&lt;00:00,  1.29it/s]",
            "_view_count": null,
            "_view_module_version": "1.5.0",
            "description_tooltip": null,
            "_model_module": "@jupyter-widgets/controls",
            "layout": "IPY_MODEL_efa2c05032b24b2b88ffd362c16d01cc"
          }
        },
        "66b88aa534b24d7d86141462bc6f7ac1": {
          "model_module": "@jupyter-widgets/controls",
          "model_name": "DescriptionStyleModel",
          "model_module_version": "1.5.0",
          "state": {
            "_view_name": "StyleView",
            "_model_name": "DescriptionStyleModel",
            "description_width": "",
            "_view_module": "@jupyter-widgets/base",
            "_model_module_version": "1.5.0",
            "_view_count": null,
            "_view_module_version": "1.2.0",
            "_model_module": "@jupyter-widgets/controls"
          }
        },
        "51e3b147d5d744e9a8321cb64a2412c3": {
          "model_module": "@jupyter-widgets/base",
          "model_name": "LayoutModel",
          "model_module_version": "1.2.0",
          "state": {
            "_view_name": "LayoutView",
            "grid_template_rows": null,
            "right": null,
            "justify_content": null,
            "_view_module": "@jupyter-widgets/base",
            "overflow": null,
            "_model_module_version": "1.2.0",
            "_view_count": null,
            "flex_flow": null,
            "width": null,
            "min_width": null,
            "border": null,
            "align_items": null,
            "bottom": null,
            "_model_module": "@jupyter-widgets/base",
            "top": null,
            "grid_column": null,
            "overflow_y": null,
            "overflow_x": null,
            "grid_auto_flow": null,
            "grid_area": null,
            "grid_template_columns": null,
            "flex": null,
            "_model_name": "LayoutModel",
            "justify_items": null,
            "grid_row": null,
            "max_height": null,
            "align_content": null,
            "visibility": null,
            "align_self": null,
            "height": null,
            "min_height": null,
            "padding": null,
            "grid_auto_rows": null,
            "grid_gap": null,
            "max_width": null,
            "order": null,
            "_view_module_version": "1.2.0",
            "grid_template_areas": null,
            "object_position": null,
            "object_fit": null,
            "grid_auto_columns": null,
            "margin": null,
            "display": null,
            "left": null
          }
        },
        "d203acbafa644c4cb30b0792049b3941": {
          "model_module": "@jupyter-widgets/controls",
          "model_name": "ProgressStyleModel",
          "model_module_version": "1.5.0",
          "state": {
            "_view_name": "StyleView",
            "_model_name": "ProgressStyleModel",
            "description_width": "",
            "_view_module": "@jupyter-widgets/base",
            "_model_module_version": "1.5.0",
            "_view_count": null,
            "_view_module_version": "1.2.0",
            "bar_color": null,
            "_model_module": "@jupyter-widgets/controls"
          }
        },
        "8493cff086c44ac7a45a449643a7e07f": {
          "model_module": "@jupyter-widgets/base",
          "model_name": "LayoutModel",
          "model_module_version": "1.2.0",
          "state": {
            "_view_name": "LayoutView",
            "grid_template_rows": null,
            "right": null,
            "justify_content": null,
            "_view_module": "@jupyter-widgets/base",
            "overflow": null,
            "_model_module_version": "1.2.0",
            "_view_count": null,
            "flex_flow": null,
            "width": null,
            "min_width": null,
            "border": null,
            "align_items": null,
            "bottom": null,
            "_model_module": "@jupyter-widgets/base",
            "top": null,
            "grid_column": null,
            "overflow_y": null,
            "overflow_x": null,
            "grid_auto_flow": null,
            "grid_area": null,
            "grid_template_columns": null,
            "flex": null,
            "_model_name": "LayoutModel",
            "justify_items": null,
            "grid_row": null,
            "max_height": null,
            "align_content": null,
            "visibility": null,
            "align_self": null,
            "height": null,
            "min_height": null,
            "padding": null,
            "grid_auto_rows": null,
            "grid_gap": null,
            "max_width": null,
            "order": null,
            "_view_module_version": "1.2.0",
            "grid_template_areas": null,
            "object_position": null,
            "object_fit": null,
            "grid_auto_columns": null,
            "margin": null,
            "display": null,
            "left": null
          }
        },
        "e828f81687af497bba936f282c5b9ac8": {
          "model_module": "@jupyter-widgets/controls",
          "model_name": "DescriptionStyleModel",
          "model_module_version": "1.5.0",
          "state": {
            "_view_name": "StyleView",
            "_model_name": "DescriptionStyleModel",
            "description_width": "",
            "_view_module": "@jupyter-widgets/base",
            "_model_module_version": "1.5.0",
            "_view_count": null,
            "_view_module_version": "1.2.0",
            "_model_module": "@jupyter-widgets/controls"
          }
        },
        "efa2c05032b24b2b88ffd362c16d01cc": {
          "model_module": "@jupyter-widgets/base",
          "model_name": "LayoutModel",
          "model_module_version": "1.2.0",
          "state": {
            "_view_name": "LayoutView",
            "grid_template_rows": null,
            "right": null,
            "justify_content": null,
            "_view_module": "@jupyter-widgets/base",
            "overflow": null,
            "_model_module_version": "1.2.0",
            "_view_count": null,
            "flex_flow": null,
            "width": null,
            "min_width": null,
            "border": null,
            "align_items": null,
            "bottom": null,
            "_model_module": "@jupyter-widgets/base",
            "top": null,
            "grid_column": null,
            "overflow_y": null,
            "overflow_x": null,
            "grid_auto_flow": null,
            "grid_area": null,
            "grid_template_columns": null,
            "flex": null,
            "_model_name": "LayoutModel",
            "justify_items": null,
            "grid_row": null,
            "max_height": null,
            "align_content": null,
            "visibility": null,
            "align_self": null,
            "height": null,
            "min_height": null,
            "padding": null,
            "grid_auto_rows": null,
            "grid_gap": null,
            "max_width": null,
            "order": null,
            "_view_module_version": "1.2.0",
            "grid_template_areas": null,
            "object_position": null,
            "object_fit": null,
            "grid_auto_columns": null,
            "margin": null,
            "display": null,
            "left": null
          }
        },
        "7bd189e05bc9411d9638e8944d7a2e41": {
          "model_module": "@jupyter-widgets/controls",
          "model_name": "HBoxModel",
          "model_module_version": "1.5.0",
          "state": {
            "_view_name": "HBoxView",
            "_dom_classes": [],
            "_model_name": "HBoxModel",
            "_view_module": "@jupyter-widgets/controls",
            "_model_module_version": "1.5.0",
            "_view_count": null,
            "_view_module_version": "1.5.0",
            "box_style": "",
            "layout": "IPY_MODEL_92a02f22c7c4477993ff0e528dd5c72e",
            "_model_module": "@jupyter-widgets/controls",
            "children": [
              "IPY_MODEL_df3bf944ad374c5d9b4601b9365fe792",
              "IPY_MODEL_99412e6ca0274dd7a3df05394e4d659a",
              "IPY_MODEL_529260ea2a354b91b3ff1539646bd3a7"
            ]
          }
        },
        "92a02f22c7c4477993ff0e528dd5c72e": {
          "model_module": "@jupyter-widgets/base",
          "model_name": "LayoutModel",
          "model_module_version": "1.2.0",
          "state": {
            "_view_name": "LayoutView",
            "grid_template_rows": null,
            "right": null,
            "justify_content": null,
            "_view_module": "@jupyter-widgets/base",
            "overflow": null,
            "_model_module_version": "1.2.0",
            "_view_count": null,
            "flex_flow": null,
            "width": null,
            "min_width": null,
            "border": null,
            "align_items": null,
            "bottom": null,
            "_model_module": "@jupyter-widgets/base",
            "top": null,
            "grid_column": null,
            "overflow_y": null,
            "overflow_x": null,
            "grid_auto_flow": null,
            "grid_area": null,
            "grid_template_columns": null,
            "flex": null,
            "_model_name": "LayoutModel",
            "justify_items": null,
            "grid_row": null,
            "max_height": null,
            "align_content": null,
            "visibility": null,
            "align_self": null,
            "height": null,
            "min_height": null,
            "padding": null,
            "grid_auto_rows": null,
            "grid_gap": null,
            "max_width": null,
            "order": null,
            "_view_module_version": "1.2.0",
            "grid_template_areas": null,
            "object_position": null,
            "object_fit": null,
            "grid_auto_columns": null,
            "margin": null,
            "display": null,
            "left": null
          }
        },
        "df3bf944ad374c5d9b4601b9365fe792": {
          "model_module": "@jupyter-widgets/controls",
          "model_name": "HTMLModel",
          "model_module_version": "1.5.0",
          "state": {
            "_view_name": "HTMLView",
            "style": "IPY_MODEL_bede1fbbb88842bdafac7a4de939135a",
            "_dom_classes": [],
            "description": "",
            "_model_name": "HTMLModel",
            "placeholder": "​",
            "_view_module": "@jupyter-widgets/controls",
            "_model_module_version": "1.5.0",
            "value": "100%",
            "_view_count": null,
            "_view_module_version": "1.5.0",
            "description_tooltip": null,
            "_model_module": "@jupyter-widgets/controls",
            "layout": "IPY_MODEL_d50d1ce360c74295a097544f8aff7ae5"
          }
        },
        "99412e6ca0274dd7a3df05394e4d659a": {
          "model_module": "@jupyter-widgets/controls",
          "model_name": "FloatProgressModel",
          "model_module_version": "1.5.0",
          "state": {
            "_view_name": "ProgressView",
            "style": "IPY_MODEL_412ce40ef255449fb9285b2105b71600",
            "_dom_classes": [],
            "description": "",
            "_model_name": "FloatProgressModel",
            "bar_style": "success",
            "max": 5001,
            "_view_module": "@jupyter-widgets/controls",
            "_model_module_version": "1.5.0",
            "value": 5001,
            "_view_count": null,
            "_view_module_version": "1.5.0",
            "orientation": "horizontal",
            "min": 0,
            "description_tooltip": null,
            "_model_module": "@jupyter-widgets/controls",
            "layout": "IPY_MODEL_ca36899e2858461884cce1ca972bf9fc"
          }
        },
        "529260ea2a354b91b3ff1539646bd3a7": {
          "model_module": "@jupyter-widgets/controls",
          "model_name": "HTMLModel",
          "model_module_version": "1.5.0",
          "state": {
            "_view_name": "HTMLView",
            "style": "IPY_MODEL_3e0365f5548645328702648d4367609c",
            "_dom_classes": [],
            "description": "",
            "_model_name": "HTMLModel",
            "placeholder": "​",
            "_view_module": "@jupyter-widgets/controls",
            "_model_module_version": "1.5.0",
            "value": " 5001/5001 [00:00&lt;00:00, 12221.28it/s]",
            "_view_count": null,
            "_view_module_version": "1.5.0",
            "description_tooltip": null,
            "_model_module": "@jupyter-widgets/controls",
            "layout": "IPY_MODEL_744ad16570774e8a8e31582df77f2778"
          }
        },
        "bede1fbbb88842bdafac7a4de939135a": {
          "model_module": "@jupyter-widgets/controls",
          "model_name": "DescriptionStyleModel",
          "model_module_version": "1.5.0",
          "state": {
            "_view_name": "StyleView",
            "_model_name": "DescriptionStyleModel",
            "description_width": "",
            "_view_module": "@jupyter-widgets/base",
            "_model_module_version": "1.5.0",
            "_view_count": null,
            "_view_module_version": "1.2.0",
            "_model_module": "@jupyter-widgets/controls"
          }
        },
        "d50d1ce360c74295a097544f8aff7ae5": {
          "model_module": "@jupyter-widgets/base",
          "model_name": "LayoutModel",
          "model_module_version": "1.2.0",
          "state": {
            "_view_name": "LayoutView",
            "grid_template_rows": null,
            "right": null,
            "justify_content": null,
            "_view_module": "@jupyter-widgets/base",
            "overflow": null,
            "_model_module_version": "1.2.0",
            "_view_count": null,
            "flex_flow": null,
            "width": null,
            "min_width": null,
            "border": null,
            "align_items": null,
            "bottom": null,
            "_model_module": "@jupyter-widgets/base",
            "top": null,
            "grid_column": null,
            "overflow_y": null,
            "overflow_x": null,
            "grid_auto_flow": null,
            "grid_area": null,
            "grid_template_columns": null,
            "flex": null,
            "_model_name": "LayoutModel",
            "justify_items": null,
            "grid_row": null,
            "max_height": null,
            "align_content": null,
            "visibility": null,
            "align_self": null,
            "height": null,
            "min_height": null,
            "padding": null,
            "grid_auto_rows": null,
            "grid_gap": null,
            "max_width": null,
            "order": null,
            "_view_module_version": "1.2.0",
            "grid_template_areas": null,
            "object_position": null,
            "object_fit": null,
            "grid_auto_columns": null,
            "margin": null,
            "display": null,
            "left": null
          }
        },
        "412ce40ef255449fb9285b2105b71600": {
          "model_module": "@jupyter-widgets/controls",
          "model_name": "ProgressStyleModel",
          "model_module_version": "1.5.0",
          "state": {
            "_view_name": "StyleView",
            "_model_name": "ProgressStyleModel",
            "description_width": "",
            "_view_module": "@jupyter-widgets/base",
            "_model_module_version": "1.5.0",
            "_view_count": null,
            "_view_module_version": "1.2.0",
            "bar_color": null,
            "_model_module": "@jupyter-widgets/controls"
          }
        },
        "ca36899e2858461884cce1ca972bf9fc": {
          "model_module": "@jupyter-widgets/base",
          "model_name": "LayoutModel",
          "model_module_version": "1.2.0",
          "state": {
            "_view_name": "LayoutView",
            "grid_template_rows": null,
            "right": null,
            "justify_content": null,
            "_view_module": "@jupyter-widgets/base",
            "overflow": null,
            "_model_module_version": "1.2.0",
            "_view_count": null,
            "flex_flow": null,
            "width": null,
            "min_width": null,
            "border": null,
            "align_items": null,
            "bottom": null,
            "_model_module": "@jupyter-widgets/base",
            "top": null,
            "grid_column": null,
            "overflow_y": null,
            "overflow_x": null,
            "grid_auto_flow": null,
            "grid_area": null,
            "grid_template_columns": null,
            "flex": null,
            "_model_name": "LayoutModel",
            "justify_items": null,
            "grid_row": null,
            "max_height": null,
            "align_content": null,
            "visibility": null,
            "align_self": null,
            "height": null,
            "min_height": null,
            "padding": null,
            "grid_auto_rows": null,
            "grid_gap": null,
            "max_width": null,
            "order": null,
            "_view_module_version": "1.2.0",
            "grid_template_areas": null,
            "object_position": null,
            "object_fit": null,
            "grid_auto_columns": null,
            "margin": null,
            "display": null,
            "left": null
          }
        },
        "3e0365f5548645328702648d4367609c": {
          "model_module": "@jupyter-widgets/controls",
          "model_name": "DescriptionStyleModel",
          "model_module_version": "1.5.0",
          "state": {
            "_view_name": "StyleView",
            "_model_name": "DescriptionStyleModel",
            "description_width": "",
            "_view_module": "@jupyter-widgets/base",
            "_model_module_version": "1.5.0",
            "_view_count": null,
            "_view_module_version": "1.2.0",
            "_model_module": "@jupyter-widgets/controls"
          }
        },
        "744ad16570774e8a8e31582df77f2778": {
          "model_module": "@jupyter-widgets/base",
          "model_name": "LayoutModel",
          "model_module_version": "1.2.0",
          "state": {
            "_view_name": "LayoutView",
            "grid_template_rows": null,
            "right": null,
            "justify_content": null,
            "_view_module": "@jupyter-widgets/base",
            "overflow": null,
            "_model_module_version": "1.2.0",
            "_view_count": null,
            "flex_flow": null,
            "width": null,
            "min_width": null,
            "border": null,
            "align_items": null,
            "bottom": null,
            "_model_module": "@jupyter-widgets/base",
            "top": null,
            "grid_column": null,
            "overflow_y": null,
            "overflow_x": null,
            "grid_auto_flow": null,
            "grid_area": null,
            "grid_template_columns": null,
            "flex": null,
            "_model_name": "LayoutModel",
            "justify_items": null,
            "grid_row": null,
            "max_height": null,
            "align_content": null,
            "visibility": null,
            "align_self": null,
            "height": null,
            "min_height": null,
            "padding": null,
            "grid_auto_rows": null,
            "grid_gap": null,
            "max_width": null,
            "order": null,
            "_view_module_version": "1.2.0",
            "grid_template_areas": null,
            "object_position": null,
            "object_fit": null,
            "grid_auto_columns": null,
            "margin": null,
            "display": null,
            "left": null
          }
        }
      }
    }
  },
  "cells": [
    {
      "cell_type": "markdown",
      "metadata": {
        "id": "nMBdGcvjC4Ji"
      },
      "source": [
        "# Вебинар 6. Двухуровневые модели рекомендаций\n"
      ]
    },
    {
      "cell_type": "markdown",
      "metadata": {
        "id": "3Jgaacz0C4Jl"
      },
      "source": [
        "Код для src, utils, metrics вы можете скачать из [этого](https://github.com/geangohn/recsys-tutorial) github репозитория"
      ]
    },
    {
      "cell_type": "code",
      "metadata": {
        "colab": {
          "base_uri": "https://localhost:8080/"
        },
        "id": "sXnDmXR7RDr2",
        "outputId": "ba174224-755d-4fb5-835a-0ef939d46f31"
      },
      "source": [
        "%tensorflow_version 2.x\n",
        "import tensorflow as tf\n",
        "device_name = tf.test.gpu_device_name()\n",
        "if device_name != '/device:GPU:0':\n",
        "  raise SystemError('GPU device not found')\n",
        "print('Found GPU at: {}'.format(device_name))"
      ],
      "execution_count": 1,
      "outputs": [
        {
          "output_type": "stream",
          "name": "stdout",
          "text": [
            "Found GPU at: /device:GPU:0\n"
          ]
        }
      ]
    },
    {
      "cell_type": "code",
      "metadata": {
        "id": "B5pEd3Wo7_nM",
        "colab": {
          "base_uri": "https://localhost:8080/"
        },
        "outputId": "71aed8c5-d177-4243-8430-d66a8ee1fdc1"
      },
      "source": [
        "!pip install implicit"
      ],
      "execution_count": 2,
      "outputs": [
        {
          "output_type": "stream",
          "name": "stdout",
          "text": [
            "Collecting implicit\n",
            "  Downloading implicit-0.4.8.tar.gz (1.1 MB)\n",
            "\u001b[?25l\r\u001b[K     |▎                               | 10 kB 23.6 MB/s eta 0:00:01\r\u001b[K     |▋                               | 20 kB 27.8 MB/s eta 0:00:01\r\u001b[K     |▉                               | 30 kB 21.9 MB/s eta 0:00:01\r\u001b[K     |█▏                              | 40 kB 17.7 MB/s eta 0:00:01\r\u001b[K     |█▍                              | 51 kB 14.1 MB/s eta 0:00:01\r\u001b[K     |█▊                              | 61 kB 11.9 MB/s eta 0:00:01\r\u001b[K     |██                              | 71 kB 12.1 MB/s eta 0:00:01\r\u001b[K     |██▎                             | 81 kB 13.2 MB/s eta 0:00:01\r\u001b[K     |██▋                             | 92 kB 11.5 MB/s eta 0:00:01\r\u001b[K     |██▉                             | 102 kB 12.2 MB/s eta 0:00:01\r\u001b[K     |███▏                            | 112 kB 12.2 MB/s eta 0:00:01\r\u001b[K     |███▍                            | 122 kB 12.2 MB/s eta 0:00:01\r\u001b[K     |███▊                            | 133 kB 12.2 MB/s eta 0:00:01\r\u001b[K     |████                            | 143 kB 12.2 MB/s eta 0:00:01\r\u001b[K     |████▎                           | 153 kB 12.2 MB/s eta 0:00:01\r\u001b[K     |████▋                           | 163 kB 12.2 MB/s eta 0:00:01\r\u001b[K     |████▉                           | 174 kB 12.2 MB/s eta 0:00:01\r\u001b[K     |█████▏                          | 184 kB 12.2 MB/s eta 0:00:01\r\u001b[K     |█████▍                          | 194 kB 12.2 MB/s eta 0:00:01\r\u001b[K     |█████▊                          | 204 kB 12.2 MB/s eta 0:00:01\r\u001b[K     |██████                          | 215 kB 12.2 MB/s eta 0:00:01\r\u001b[K     |██████▎                         | 225 kB 12.2 MB/s eta 0:00:01\r\u001b[K     |██████▋                         | 235 kB 12.2 MB/s eta 0:00:01\r\u001b[K     |██████▉                         | 245 kB 12.2 MB/s eta 0:00:01\r\u001b[K     |███████▏                        | 256 kB 12.2 MB/s eta 0:00:01\r\u001b[K     |███████▌                        | 266 kB 12.2 MB/s eta 0:00:01\r\u001b[K     |███████▊                        | 276 kB 12.2 MB/s eta 0:00:01\r\u001b[K     |████████                        | 286 kB 12.2 MB/s eta 0:00:01\r\u001b[K     |████████▎                       | 296 kB 12.2 MB/s eta 0:00:01\r\u001b[K     |████████▋                       | 307 kB 12.2 MB/s eta 0:00:01\r\u001b[K     |████████▉                       | 317 kB 12.2 MB/s eta 0:00:01\r\u001b[K     |█████████▏                      | 327 kB 12.2 MB/s eta 0:00:01\r\u001b[K     |█████████▌                      | 337 kB 12.2 MB/s eta 0:00:01\r\u001b[K     |█████████▊                      | 348 kB 12.2 MB/s eta 0:00:01\r\u001b[K     |██████████                      | 358 kB 12.2 MB/s eta 0:00:01\r\u001b[K     |██████████▎                     | 368 kB 12.2 MB/s eta 0:00:01\r\u001b[K     |██████████▋                     | 378 kB 12.2 MB/s eta 0:00:01\r\u001b[K     |██████████▉                     | 389 kB 12.2 MB/s eta 0:00:01\r\u001b[K     |███████████▏                    | 399 kB 12.2 MB/s eta 0:00:01\r\u001b[K     |███████████▌                    | 409 kB 12.2 MB/s eta 0:00:01\r\u001b[K     |███████████▊                    | 419 kB 12.2 MB/s eta 0:00:01\r\u001b[K     |████████████                    | 430 kB 12.2 MB/s eta 0:00:01\r\u001b[K     |████████████▎                   | 440 kB 12.2 MB/s eta 0:00:01\r\u001b[K     |████████████▋                   | 450 kB 12.2 MB/s eta 0:00:01\r\u001b[K     |█████████████                   | 460 kB 12.2 MB/s eta 0:00:01\r\u001b[K     |█████████████▏                  | 471 kB 12.2 MB/s eta 0:00:01\r\u001b[K     |█████████████▌                  | 481 kB 12.2 MB/s eta 0:00:01\r\u001b[K     |█████████████▊                  | 491 kB 12.2 MB/s eta 0:00:01\r\u001b[K     |██████████████                  | 501 kB 12.2 MB/s eta 0:00:01\r\u001b[K     |██████████████▎                 | 512 kB 12.2 MB/s eta 0:00:01\r\u001b[K     |██████████████▋                 | 522 kB 12.2 MB/s eta 0:00:01\r\u001b[K     |███████████████                 | 532 kB 12.2 MB/s eta 0:00:01\r\u001b[K     |███████████████▏                | 542 kB 12.2 MB/s eta 0:00:01\r\u001b[K     |███████████████▌                | 552 kB 12.2 MB/s eta 0:00:01\r\u001b[K     |███████████████▊                | 563 kB 12.2 MB/s eta 0:00:01\r\u001b[K     |████████████████                | 573 kB 12.2 MB/s eta 0:00:01\r\u001b[K     |████████████████▎               | 583 kB 12.2 MB/s eta 0:00:01\r\u001b[K     |████████████████▋               | 593 kB 12.2 MB/s eta 0:00:01\r\u001b[K     |█████████████████               | 604 kB 12.2 MB/s eta 0:00:01\r\u001b[K     |█████████████████▏              | 614 kB 12.2 MB/s eta 0:00:01\r\u001b[K     |█████████████████▌              | 624 kB 12.2 MB/s eta 0:00:01\r\u001b[K     |█████████████████▊              | 634 kB 12.2 MB/s eta 0:00:01\r\u001b[K     |██████████████████              | 645 kB 12.2 MB/s eta 0:00:01\r\u001b[K     |██████████████████▍             | 655 kB 12.2 MB/s eta 0:00:01\r\u001b[K     |██████████████████▋             | 665 kB 12.2 MB/s eta 0:00:01\r\u001b[K     |███████████████████             | 675 kB 12.2 MB/s eta 0:00:01\r\u001b[K     |███████████████████▏            | 686 kB 12.2 MB/s eta 0:00:01\r\u001b[K     |███████████████████▌            | 696 kB 12.2 MB/s eta 0:00:01\r\u001b[K     |███████████████████▊            | 706 kB 12.2 MB/s eta 0:00:01\r\u001b[K     |████████████████████            | 716 kB 12.2 MB/s eta 0:00:01\r\u001b[K     |████████████████████▍           | 727 kB 12.2 MB/s eta 0:00:01\r\u001b[K     |████████████████████▋           | 737 kB 12.2 MB/s eta 0:00:01\r\u001b[K     |█████████████████████           | 747 kB 12.2 MB/s eta 0:00:01\r\u001b[K     |█████████████████████▏          | 757 kB 12.2 MB/s eta 0:00:01\r\u001b[K     |█████████████████████▌          | 768 kB 12.2 MB/s eta 0:00:01\r\u001b[K     |█████████████████████▊          | 778 kB 12.2 MB/s eta 0:00:01\r\u001b[K     |██████████████████████          | 788 kB 12.2 MB/s eta 0:00:01\r\u001b[K     |██████████████████████▍         | 798 kB 12.2 MB/s eta 0:00:01\r\u001b[K     |██████████████████████▋         | 808 kB 12.2 MB/s eta 0:00:01\r\u001b[K     |███████████████████████         | 819 kB 12.2 MB/s eta 0:00:01\r\u001b[K     |███████████████████████▏        | 829 kB 12.2 MB/s eta 0:00:01\r\u001b[K     |███████████████████████▌        | 839 kB 12.2 MB/s eta 0:00:01\r\u001b[K     |███████████████████████▉        | 849 kB 12.2 MB/s eta 0:00:01\r\u001b[K     |████████████████████████        | 860 kB 12.2 MB/s eta 0:00:01\r\u001b[K     |████████████████████████▍       | 870 kB 12.2 MB/s eta 0:00:01\r\u001b[K     |████████████████████████▋       | 880 kB 12.2 MB/s eta 0:00:01\r\u001b[K     |█████████████████████████       | 890 kB 12.2 MB/s eta 0:00:01\r\u001b[K     |█████████████████████████▏      | 901 kB 12.2 MB/s eta 0:00:01\r\u001b[K     |█████████████████████████▌      | 911 kB 12.2 MB/s eta 0:00:01\r\u001b[K     |█████████████████████████▉      | 921 kB 12.2 MB/s eta 0:00:01\r\u001b[K     |██████████████████████████      | 931 kB 12.2 MB/s eta 0:00:01\r\u001b[K     |██████████████████████████▍     | 942 kB 12.2 MB/s eta 0:00:01\r\u001b[K     |██████████████████████████▋     | 952 kB 12.2 MB/s eta 0:00:01\r\u001b[K     |███████████████████████████     | 962 kB 12.2 MB/s eta 0:00:01\r\u001b[K     |███████████████████████████▏    | 972 kB 12.2 MB/s eta 0:00:01\r\u001b[K     |███████████████████████████▌    | 983 kB 12.2 MB/s eta 0:00:01\r\u001b[K     |███████████████████████████▉    | 993 kB 12.2 MB/s eta 0:00:01\r\u001b[K     |████████████████████████████    | 1.0 MB 12.2 MB/s eta 0:00:01\r\u001b[K     |████████████████████████████▍   | 1.0 MB 12.2 MB/s eta 0:00:01\r\u001b[K     |████████████████████████████▋   | 1.0 MB 12.2 MB/s eta 0:00:01\r\u001b[K     |█████████████████████████████   | 1.0 MB 12.2 MB/s eta 0:00:01\r\u001b[K     |█████████████████████████████▎  | 1.0 MB 12.2 MB/s eta 0:00:01\r\u001b[K     |█████████████████████████████▌  | 1.1 MB 12.2 MB/s eta 0:00:01\r\u001b[K     |█████████████████████████████▉  | 1.1 MB 12.2 MB/s eta 0:00:01\r\u001b[K     |██████████████████████████████  | 1.1 MB 12.2 MB/s eta 0:00:01\r\u001b[K     |██████████████████████████████▍ | 1.1 MB 12.2 MB/s eta 0:00:01\r\u001b[K     |██████████████████████████████▋ | 1.1 MB 12.2 MB/s eta 0:00:01\r\u001b[K     |███████████████████████████████ | 1.1 MB 12.2 MB/s eta 0:00:01\r\u001b[K     |███████████████████████████████▎| 1.1 MB 12.2 MB/s eta 0:00:01\r\u001b[K     |███████████████████████████████▌| 1.1 MB 12.2 MB/s eta 0:00:01\r\u001b[K     |███████████████████████████████▉| 1.1 MB 12.2 MB/s eta 0:00:01\r\u001b[K     |████████████████████████████████| 1.1 MB 12.2 MB/s \n",
            "\u001b[?25h  Installing build dependencies ... \u001b[?25l\u001b[?25hdone\n",
            "  Getting requirements to build wheel ... \u001b[?25l\u001b[?25hdone\n",
            "  Installing backend dependencies ... \u001b[?25l\u001b[?25hdone\n",
            "    Preparing wheel metadata ... \u001b[?25l\u001b[?25hdone\n",
            "Requirement already satisfied: tqdm>=4.27 in /usr/local/lib/python3.7/dist-packages (from implicit) (4.62.3)\n",
            "Requirement already satisfied: numpy in /usr/local/lib/python3.7/dist-packages (from implicit) (1.19.5)\n",
            "Requirement already satisfied: scipy>=0.16 in /usr/local/lib/python3.7/dist-packages (from implicit) (1.4.1)\n",
            "Building wheels for collected packages: implicit\n",
            "  Building wheel for implicit (PEP 517) ... \u001b[?25l\u001b[?25hdone\n",
            "  Created wheel for implicit: filename=implicit-0.4.8-cp37-cp37m-linux_x86_64.whl size=4606521 sha256=5d0684cfb12d9e052a688e7e1def170137270e7a1c3b5e8b5a73fb1f4b6ac898\n",
            "  Stored in directory: /root/.cache/pip/wheels/88/e6/34/25e73cccbaf1a961154bb562a5f86123b68fdbf40e306073d6\n",
            "Successfully built implicit\n",
            "Installing collected packages: implicit\n",
            "Successfully installed implicit-0.4.8\n"
          ]
        }
      ]
    },
    {
      "cell_type": "code",
      "metadata": {
        "colab": {
          "base_uri": "https://localhost:8080/"
        },
        "id": "qQa7DnLxC_8d",
        "outputId": "3eea87af-67d2-4658-ebee-17eca4c941ec"
      },
      "source": [
        "from google.colab import drive\n",
        "drive.mount('/content/drive')\n",
        "root = '/content/drive/My Drive/rec_sys/lesson6/'"
      ],
      "execution_count": 3,
      "outputs": [
        {
          "output_type": "stream",
          "name": "stdout",
          "text": [
            "Mounted at /content/drive\n"
          ]
        }
      ]
    },
    {
      "cell_type": "code",
      "metadata": {
        "id": "5Aur99NsC4Jm",
        "colab": {
          "base_uri": "https://localhost:8080/"
        },
        "outputId": "aa270602-d331-4df4-eb92-a85b93e0cf76"
      },
      "source": [
        "import pandas as pd\n",
        "import numpy as np\n",
        "import matplotlib.pyplot as plt\n",
        "%matplotlib inline\n",
        "\n",
        "# Для работы с матрицами\n",
        "from scipy.sparse import csr_matrix\n",
        "\n",
        "# Матричная факторизация\n",
        "from implicit import als\n",
        "\n",
        "# Модель второго уровня\n",
        "from lightgbm import LGBMClassifier\n",
        "\n",
        "import os, sys\n",
        "module_path = os.path.abspath(os.path.join(os.pardir + root))\n",
        "print(module_path)\n",
        "if module_path not in sys.path:\n",
        "    sys.path.append(module_path)\n",
        "\n",
        "# Написанные нами функции\n",
        "from src.metrics import precision_at_k, recall_at_k\n",
        "from src.utils import prefilter_items\n",
        "from src.recommenders import MainRecommender\n",
        "import recommenders"
      ],
      "execution_count": 4,
      "outputs": [
        {
          "output_type": "stream",
          "name": "stdout",
          "text": [
            "/content/drive/My Drive/rec_sys/lesson6\n"
          ]
        }
      ]
    },
    {
      "cell_type": "code",
      "metadata": {
        "id": "vso_erSdC4Jo",
        "colab": {
          "base_uri": "https://localhost:8080/",
          "height": 112
        },
        "outputId": "359434e6-6506-40f0-d787-dfc7f29557bb"
      },
      "source": [
        "data = pd.read_csv(root +'/retail_train.csv')\n",
        "item_features = pd.read_csv(root + '/product.csv')\n",
        "user_features = pd.read_csv(root + '/hh_demographic.csv')\n",
        "\n",
        "# column processing\n",
        "item_features.columns = [col.lower() for col in item_features.columns]\n",
        "user_features.columns = [col.lower() for col in user_features.columns]\n",
        "\n",
        "item_features.rename(columns={'product_id': 'item_id'}, inplace=True)\n",
        "user_features.rename(columns={'household_key': 'user_id'}, inplace=True)\n",
        "\n",
        "\n",
        "# Важна схема обучения и валидации!\n",
        "# -- давние покупки -- | -- 6 недель -- | -- 3 недель -- \n",
        "# подобрать размер 2-ого датасета (6 недель) --> learning curve (зависимость метрики recall@k от размера датасета)\n",
        "val_lvl_1_size_weeks = 6\n",
        "val_lvl_2_size_weeks = 3\n",
        "\n",
        "data_train_lvl_1 = data[data['week_no'] < data['week_no'].max() - (val_lvl_1_size_weeks + val_lvl_2_size_weeks)]\n",
        "data_val_lvl_1 = data[(data['week_no'] >= data['week_no'].max() - (val_lvl_1_size_weeks + val_lvl_2_size_weeks)) &\n",
        "                      (data['week_no'] < data['week_no'].max() - (val_lvl_2_size_weeks))]\n",
        "\n",
        "data_train_lvl_2 = data_val_lvl_1.copy()  # Для наглядности. Далее мы добавим изменения, и они будут отличаться\n",
        "data_val_lvl_2 = data[data['week_no'] >= data['week_no'].max() - val_lvl_2_size_weeks]\n",
        "\n",
        "data_train_lvl_1.head(2)"
      ],
      "execution_count": 5,
      "outputs": [
        {
          "output_type": "execute_result",
          "data": {
            "text/html": [
              "<div>\n",
              "<style scoped>\n",
              "    .dataframe tbody tr th:only-of-type {\n",
              "        vertical-align: middle;\n",
              "    }\n",
              "\n",
              "    .dataframe tbody tr th {\n",
              "        vertical-align: top;\n",
              "    }\n",
              "\n",
              "    .dataframe thead th {\n",
              "        text-align: right;\n",
              "    }\n",
              "</style>\n",
              "<table border=\"1\" class=\"dataframe\">\n",
              "  <thead>\n",
              "    <tr style=\"text-align: right;\">\n",
              "      <th></th>\n",
              "      <th>user_id</th>\n",
              "      <th>basket_id</th>\n",
              "      <th>day</th>\n",
              "      <th>item_id</th>\n",
              "      <th>quantity</th>\n",
              "      <th>sales_value</th>\n",
              "      <th>store_id</th>\n",
              "      <th>retail_disc</th>\n",
              "      <th>trans_time</th>\n",
              "      <th>week_no</th>\n",
              "      <th>coupon_disc</th>\n",
              "      <th>coupon_match_disc</th>\n",
              "    </tr>\n",
              "  </thead>\n",
              "  <tbody>\n",
              "    <tr>\n",
              "      <th>0</th>\n",
              "      <td>2375</td>\n",
              "      <td>26984851472</td>\n",
              "      <td>1</td>\n",
              "      <td>1004906</td>\n",
              "      <td>1</td>\n",
              "      <td>1.39</td>\n",
              "      <td>364</td>\n",
              "      <td>-0.6</td>\n",
              "      <td>1631</td>\n",
              "      <td>1</td>\n",
              "      <td>0.0</td>\n",
              "      <td>0.0</td>\n",
              "    </tr>\n",
              "    <tr>\n",
              "      <th>1</th>\n",
              "      <td>2375</td>\n",
              "      <td>26984851472</td>\n",
              "      <td>1</td>\n",
              "      <td>1033142</td>\n",
              "      <td>1</td>\n",
              "      <td>0.82</td>\n",
              "      <td>364</td>\n",
              "      <td>0.0</td>\n",
              "      <td>1631</td>\n",
              "      <td>1</td>\n",
              "      <td>0.0</td>\n",
              "      <td>0.0</td>\n",
              "    </tr>\n",
              "  </tbody>\n",
              "</table>\n",
              "</div>"
            ],
            "text/plain": [
              "   user_id    basket_id  day  ...  week_no  coupon_disc  coupon_match_disc\n",
              "0     2375  26984851472    1  ...        1          0.0                0.0\n",
              "1     2375  26984851472    1  ...        1          0.0                0.0\n",
              "\n",
              "[2 rows x 12 columns]"
            ]
          },
          "metadata": {},
          "execution_count": 5
        }
      ]
    },
    {
      "cell_type": "code",
      "metadata": {
        "id": "zcnV3l4XC4Jp",
        "colab": {
          "base_uri": "https://localhost:8080/"
        },
        "outputId": "86898c61-14c4-4270-c66c-ab57f7c5dc8a"
      },
      "source": [
        "n_items_before = data_train_lvl_1['item_id'].nunique()\n",
        "\n",
        "data_train_lvl_1 = prefilter_items(data_train_lvl_1, item_features=item_features, take_n_popular=5000)\n",
        "\n",
        "n_items_after = data_train_lvl_1['item_id'].nunique()\n",
        "print('Decreased # items from {} to {}'.format(n_items_before, n_items_after))"
      ],
      "execution_count": 6,
      "outputs": [
        {
          "output_type": "stream",
          "name": "stdout",
          "text": [
            "Decreased # items from 83685 to 5001\n"
          ]
        }
      ]
    },
    {
      "cell_type": "code",
      "metadata": {
        "id": "zgYXRQ0lC4Jq",
        "colab": {
          "base_uri": "https://localhost:8080/",
          "height": 118,
          "referenced_widgets": [
            "d35f7f9db3d34221aa5828257c06d150",
            "03c86893348941a8a9bdb9ebbcf591a3",
            "0022b1db330842af83686e4d289e5c33",
            "9304b8169b7a4f3280d7824a5c321187",
            "b18bee43c32548049be8ca2302dc4879",
            "66b88aa534b24d7d86141462bc6f7ac1",
            "51e3b147d5d744e9a8321cb64a2412c3",
            "d203acbafa644c4cb30b0792049b3941",
            "8493cff086c44ac7a45a449643a7e07f",
            "e828f81687af497bba936f282c5b9ac8",
            "efa2c05032b24b2b88ffd362c16d01cc",
            "7bd189e05bc9411d9638e8944d7a2e41",
            "92a02f22c7c4477993ff0e528dd5c72e",
            "df3bf944ad374c5d9b4601b9365fe792",
            "99412e6ca0274dd7a3df05394e4d659a",
            "529260ea2a354b91b3ff1539646bd3a7",
            "bede1fbbb88842bdafac7a4de939135a",
            "d50d1ce360c74295a097544f8aff7ae5",
            "412ce40ef255449fb9285b2105b71600",
            "ca36899e2858461884cce1ca972bf9fc",
            "3e0365f5548645328702648d4367609c",
            "744ad16570774e8a8e31582df77f2778"
          ]
        },
        "outputId": "d24d7fee-ba4b-45c0-c7e2-2409116600f5"
      },
      "source": [
        "recommender = MainRecommender(data_train_lvl_1)"
      ],
      "execution_count": 7,
      "outputs": [
        {
          "output_type": "stream",
          "name": "stderr",
          "text": [
            "WARNING:root:OpenBLAS detected. Its highly recommend to set the environment variable 'export OPENBLAS_NUM_THREADS=1' to disable its internal multithreading\n"
          ]
        },
        {
          "output_type": "display_data",
          "data": {
            "application/vnd.jupyter.widget-view+json": {
              "model_id": "d35f7f9db3d34221aa5828257c06d150",
              "version_minor": 0,
              "version_major": 2
            },
            "text/plain": [
              "  0%|          | 0/15 [00:00<?, ?it/s]"
            ]
          },
          "metadata": {}
        },
        {
          "output_type": "display_data",
          "data": {
            "application/vnd.jupyter.widget-view+json": {
              "model_id": "7bd189e05bc9411d9638e8944d7a2e41",
              "version_minor": 0,
              "version_major": 2
            },
            "text/plain": [
              "  0%|          | 0/5001 [00:00<?, ?it/s]"
            ]
          },
          "metadata": {}
        }
      ]
    },
    {
      "cell_type": "code",
      "metadata": {
        "id": "xB9JX5swC4Jr",
        "colab": {
          "base_uri": "https://localhost:8080/"
        },
        "outputId": "dd1de43b-b21f-4888-ac0a-067a73c7b2a6"
      },
      "source": [
        "recommender.get_als_recommendations(2375, N=5)"
      ],
      "execution_count": 8,
      "outputs": [
        {
          "output_type": "execute_result",
          "data": {
            "text/plain": [
              "[899624, 871756, 1044078, 1106523, 844179]"
            ]
          },
          "metadata": {},
          "execution_count": 8
        }
      ]
    },
    {
      "cell_type": "code",
      "metadata": {
        "id": "PNVa6jWLC4Jr",
        "colab": {
          "base_uri": "https://localhost:8080/"
        },
        "outputId": "24ff885c-632a-441f-82f6-4f7f11c8af81"
      },
      "source": [
        "recommender.get_own_recommendations(2375, N=5)"
      ],
      "execution_count": 9,
      "outputs": [
        {
          "output_type": "execute_result",
          "data": {
            "text/plain": [
              "[948640, 918046, 847962, 907099, 873980]"
            ]
          },
          "metadata": {},
          "execution_count": 9
        }
      ]
    },
    {
      "cell_type": "code",
      "metadata": {
        "id": "0NoB_lSJC4Js",
        "colab": {
          "base_uri": "https://localhost:8080/"
        },
        "outputId": "b2663d50-d90f-42b4-bad8-382de9e6db8e"
      },
      "source": [
        "recommender.get_similar_items_recommendation(2375, N=5)"
      ],
      "execution_count": 10,
      "outputs": [
        {
          "output_type": "execute_result",
          "data": {
            "text/plain": [
              "[1046545, 1044078, 844179, 1078652, 15778319]"
            ]
          },
          "metadata": {},
          "execution_count": 10
        }
      ]
    },
    {
      "cell_type": "code",
      "metadata": {
        "id": "GdQO5CWKC4Js",
        "colab": {
          "base_uri": "https://localhost:8080/"
        },
        "outputId": "5511efe9-61fb-4eac-c1cb-be63c7dcc3ad"
      },
      "source": [
        "recommender.get_similar_users_recommendation(2375, N=5)"
      ],
      "execution_count": 11,
      "outputs": [
        {
          "output_type": "execute_result",
          "data": {
            "text/plain": [
              "[1097398, 1096573, 835351, 861494, 821741]"
            ]
          },
          "metadata": {},
          "execution_count": 11
        }
      ]
    },
    {
      "cell_type": "markdown",
      "metadata": {
        "id": "Bqs9Sw_YC4Jt"
      },
      "source": [
        "### Задание 1\n",
        "\n",
        "A) Попробуйте различные варианты генерации кандидатов. Какие из них дают наибольший recall@k ?\n",
        "- Пока пробуем отобрать 50 кандидатов (k=50)\n",
        "- Качество измеряем на data_val_lvl_1: следующие 6 недель после трейна\n",
        "\n",
        "Дают ли own recommendtions + top-popular лучший recall?  \n",
        "\n",
        "B)* Как зависит recall@k от k? Постройте для одной схемы генерации кандидатов эту зависимость для k = {20, 50, 100, 200, 500}  \n",
        "C)* Исходя из прошлого вопроса, как вы думаете, какое значение k является наиболее разумным?\n"
      ]
    },
    {
      "cell_type": "code",
      "metadata": {
        "id": "frt2RzDWC4Jt",
        "colab": {
          "base_uri": "https://localhost:8080/",
          "height": 112
        },
        "outputId": "a0d118a1-745b-4f74-b469-47b2900d4ada"
      },
      "source": [
        "result_lvl_1 = data_val_lvl_1.groupby('user_id')['item_id'].unique().reset_index()\n",
        "result_lvl_1.columns=['user_id', 'actual']\n",
        "result_lvl_1.head(2)"
      ],
      "execution_count": 12,
      "outputs": [
        {
          "output_type": "execute_result",
          "data": {
            "text/html": [
              "<div>\n",
              "<style scoped>\n",
              "    .dataframe tbody tr th:only-of-type {\n",
              "        vertical-align: middle;\n",
              "    }\n",
              "\n",
              "    .dataframe tbody tr th {\n",
              "        vertical-align: top;\n",
              "    }\n",
              "\n",
              "    .dataframe thead th {\n",
              "        text-align: right;\n",
              "    }\n",
              "</style>\n",
              "<table border=\"1\" class=\"dataframe\">\n",
              "  <thead>\n",
              "    <tr style=\"text-align: right;\">\n",
              "      <th></th>\n",
              "      <th>user_id</th>\n",
              "      <th>actual</th>\n",
              "    </tr>\n",
              "  </thead>\n",
              "  <tbody>\n",
              "    <tr>\n",
              "      <th>0</th>\n",
              "      <td>1</td>\n",
              "      <td>[853529, 865456, 867607, 872137, 874905, 87524...</td>\n",
              "    </tr>\n",
              "    <tr>\n",
              "      <th>1</th>\n",
              "      <td>2</td>\n",
              "      <td>[15830248, 838136, 839656, 861272, 866211, 870...</td>\n",
              "    </tr>\n",
              "  </tbody>\n",
              "</table>\n",
              "</div>"
            ],
            "text/plain": [
              "   user_id                                             actual\n",
              "0        1  [853529, 865456, 867607, 872137, 874905, 87524...\n",
              "1        2  [15830248, 838136, 839656, 861272, 866211, 870..."
            ]
          },
          "metadata": {},
          "execution_count": 12
        }
      ]
    },
    {
      "cell_type": "code",
      "metadata": {
        "id": "z7tbtrnBe7RX"
      },
      "source": [
        "result_lvl_1['als_recommendations'] = result_lvl_1['user_id'].apply(lambda x: recommender.get_als_recommendations(x, N=5))\n",
        "k = result_lvl_1.apply(lambda row: precision_at_k(row['als_recommendations'], row['actual']), axis=1).mean()\n",
        "\n",
        "result_lvl_1['own_recommendations'] = result_lvl_1['user_id'].apply(lambda x: recommender.get_own_recommendations(x, N=5))\n",
        "k = result_lvl_1.apply(lambda row: precision_at_k(row['own_recommendations'], row['actual']), axis=1).mean()\n",
        "\n",
        "result_lvl_1['similar_items_recommendation'] = result_lvl_1['user_id'].apply(lambda x: recommender.similar_items_recommendation(x, N=5))\n",
        "k = result_lvl_1.apply(lambda row: precision_at_k(row['similar_items_recommendation'], row['actual']), axis=1).mean()\n",
        "\n",
        "result_lvl_1['get_similar_users_recommendation'] = result_lvl_1['user_id'].apply(lambda x: recommender.get_similar_users_recommendation(x, N=5))\n",
        "k = result_lvl_1.apply(lambda row: precision_at_k(row['get_similar_users_recommendation'], row['actual']), axis=1).mean()"
      ],
      "execution_count": null,
      "outputs": []
    },
    {
      "cell_type": "code",
      "metadata": {
        "id": "xM5W4mU4C4Jt"
      },
      "source": [
        "# your_code\n"
      ],
      "execution_count": 13,
      "outputs": []
    },
    {
      "cell_type": "markdown",
      "metadata": {
        "id": "bAHJu3Z5C4Ju"
      },
      "source": [
        "### Задание 2.\n",
        "\n",
        "Обучите модель 2-ого уровня, при этом:\n",
        "    - Добавьте минимум по 2 фичи для юзера, товара и пары юзер-товар\n",
        "    - Измерьте отдельно precision@5 модели 1-ого уровня и двухуровневой модели на data_val_lvl_2\n",
        "    - Вырос ли precision@5 при использовании двухуровневой модели?"
      ]
    },
    {
      "cell_type": "code",
      "metadata": {
        "id": "XZQcrch7C4Ju"
      },
      "source": [
        "# your_code"
      ],
      "execution_count": 14,
      "outputs": []
    },
    {
      "cell_type": "markdown",
      "metadata": {
        "id": "9FLlIq15C4Ju"
      },
      "source": [
        "### Финальный проект\n",
        "\n",
        "Мы уже прошли всю необходимуб теорию для финального проекта. Проект осуществляется на данных из вебинара (данные считаны в начале ДЗ).\n",
        "Рекомендуем вам **начать делать проект сразу после этого домашнего задания**\n",
        "- Целевая метрика - precision@5. Порог для уcпешной сдачи проекта precision@5 > 25%\n",
        "- Будет public тестовый датасет, на котором вы сможете измерять метрику\n",
        "- Также будет private тестовый датасет для измерения финального качества\n",
        "- НЕ обязательно, но крайне желательно использовать 2-ух уровневые рекоммендательные системы в проекте\n",
        "- Вы сдаете код проекта в виде github репозитория и csv файл с рекомендациями "
      ]
    }
  ]
}