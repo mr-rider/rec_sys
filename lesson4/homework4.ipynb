{
  "nbformat": 4,
  "nbformat_minor": 0,
  "metadata": {
    "colab": {
      "name": "homework4.ipynb",
      "provenance": [],
      "collapsed_sections": []
    },
    "kernelspec": {
      "name": "python3",
      "display_name": "Python 3"
    },
    "language_info": {
      "name": "python"
    }
  },
  "cells": [
    {
      "cell_type": "code",
      "metadata": {
        "id": "7LJPCova88dJ"
      },
      "source": [
        ""
      ],
      "execution_count": null,
      "outputs": []
    },
    {
      "cell_type": "markdown",
      "metadata": {
        "id": "kOzA9OoD_kRd"
      },
      "source": [
        "1. Перенесите метрики в модуль src.metrics.py\n",
        "2. Перенесите функцию prefilter_items в модуль src.utils.py\n",
        "3. Создайте модуль src.recommenders.py. Напишите код для класса ниже и положите его в src.recommenders.py\n",
        "4. Проверьте, что все модули корректно импортируются"
      ]
    },
    {
      "cell_type": "code",
      "metadata": {
        "colab": {
          "base_uri": "https://localhost:8080/"
        },
        "id": "_3kt4GRwDLPR",
        "outputId": "d4c7c074-fed0-4b5c-d7a4-f24bd3aed780"
      },
      "source": [
        "pip install implicit==0.4.8"
      ],
      "execution_count": null,
      "outputs": [
        {
          "output_type": "stream",
          "name": "stdout",
          "text": [
            "Collecting implicit==0.4.8\n",
            "  Downloading implicit-0.4.8.tar.gz (1.1 MB)\n",
            "\u001b[?25l\r\u001b[K     |▎                               | 10 kB 22.0 MB/s eta 0:00:01\r\u001b[K     |▋                               | 20 kB 27.2 MB/s eta 0:00:01\r\u001b[K     |▉                               | 30 kB 12.9 MB/s eta 0:00:01\r\u001b[K     |█▏                              | 40 kB 9.4 MB/s eta 0:00:01\r\u001b[K     |█▍                              | 51 kB 5.2 MB/s eta 0:00:01\r\u001b[K     |█▊                              | 61 kB 5.8 MB/s eta 0:00:01\r\u001b[K     |██                              | 71 kB 5.5 MB/s eta 0:00:01\r\u001b[K     |██▎                             | 81 kB 6.2 MB/s eta 0:00:01\r\u001b[K     |██▋                             | 92 kB 6.2 MB/s eta 0:00:01\r\u001b[K     |██▉                             | 102 kB 5.1 MB/s eta 0:00:01\r\u001b[K     |███▏                            | 112 kB 5.1 MB/s eta 0:00:01\r\u001b[K     |███▍                            | 122 kB 5.1 MB/s eta 0:00:01\r\u001b[K     |███▊                            | 133 kB 5.1 MB/s eta 0:00:01\r\u001b[K     |████                            | 143 kB 5.1 MB/s eta 0:00:01\r\u001b[K     |████▎                           | 153 kB 5.1 MB/s eta 0:00:01\r\u001b[K     |████▋                           | 163 kB 5.1 MB/s eta 0:00:01\r\u001b[K     |████▉                           | 174 kB 5.1 MB/s eta 0:00:01\r\u001b[K     |█████▏                          | 184 kB 5.1 MB/s eta 0:00:01\r\u001b[K     |█████▍                          | 194 kB 5.1 MB/s eta 0:00:01\r\u001b[K     |█████▊                          | 204 kB 5.1 MB/s eta 0:00:01\r\u001b[K     |██████                          | 215 kB 5.1 MB/s eta 0:00:01\r\u001b[K     |██████▎                         | 225 kB 5.1 MB/s eta 0:00:01\r\u001b[K     |██████▋                         | 235 kB 5.1 MB/s eta 0:00:01\r\u001b[K     |██████▉                         | 245 kB 5.1 MB/s eta 0:00:01\r\u001b[K     |███████▏                        | 256 kB 5.1 MB/s eta 0:00:01\r\u001b[K     |███████▌                        | 266 kB 5.1 MB/s eta 0:00:01\r\u001b[K     |███████▊                        | 276 kB 5.1 MB/s eta 0:00:01\r\u001b[K     |████████                        | 286 kB 5.1 MB/s eta 0:00:01\r\u001b[K     |████████▎                       | 296 kB 5.1 MB/s eta 0:00:01\r\u001b[K     |████████▋                       | 307 kB 5.1 MB/s eta 0:00:01\r\u001b[K     |████████▉                       | 317 kB 5.1 MB/s eta 0:00:01\r\u001b[K     |█████████▏                      | 327 kB 5.1 MB/s eta 0:00:01\r\u001b[K     |█████████▌                      | 337 kB 5.1 MB/s eta 0:00:01\r\u001b[K     |█████████▊                      | 348 kB 5.1 MB/s eta 0:00:01\r\u001b[K     |██████████                      | 358 kB 5.1 MB/s eta 0:00:01\r\u001b[K     |██████████▎                     | 368 kB 5.1 MB/s eta 0:00:01\r\u001b[K     |██████████▋                     | 378 kB 5.1 MB/s eta 0:00:01\r\u001b[K     |██████████▉                     | 389 kB 5.1 MB/s eta 0:00:01\r\u001b[K     |███████████▏                    | 399 kB 5.1 MB/s eta 0:00:01\r\u001b[K     |███████████▌                    | 409 kB 5.1 MB/s eta 0:00:01\r\u001b[K     |███████████▊                    | 419 kB 5.1 MB/s eta 0:00:01\r\u001b[K     |████████████                    | 430 kB 5.1 MB/s eta 0:00:01\r\u001b[K     |████████████▎                   | 440 kB 5.1 MB/s eta 0:00:01\r\u001b[K     |████████████▋                   | 450 kB 5.1 MB/s eta 0:00:01\r\u001b[K     |█████████████                   | 460 kB 5.1 MB/s eta 0:00:01\r\u001b[K     |█████████████▏                  | 471 kB 5.1 MB/s eta 0:00:01\r\u001b[K     |█████████████▌                  | 481 kB 5.1 MB/s eta 0:00:01\r\u001b[K     |█████████████▊                  | 491 kB 5.1 MB/s eta 0:00:01\r\u001b[K     |██████████████                  | 501 kB 5.1 MB/s eta 0:00:01\r\u001b[K     |██████████████▎                 | 512 kB 5.1 MB/s eta 0:00:01\r\u001b[K     |██████████████▋                 | 522 kB 5.1 MB/s eta 0:00:01\r\u001b[K     |███████████████                 | 532 kB 5.1 MB/s eta 0:00:01\r\u001b[K     |███████████████▏                | 542 kB 5.1 MB/s eta 0:00:01\r\u001b[K     |███████████████▌                | 552 kB 5.1 MB/s eta 0:00:01\r\u001b[K     |███████████████▊                | 563 kB 5.1 MB/s eta 0:00:01\r\u001b[K     |████████████████                | 573 kB 5.1 MB/s eta 0:00:01\r\u001b[K     |████████████████▎               | 583 kB 5.1 MB/s eta 0:00:01\r\u001b[K     |████████████████▋               | 593 kB 5.1 MB/s eta 0:00:01\r\u001b[K     |█████████████████               | 604 kB 5.1 MB/s eta 0:00:01\r\u001b[K     |█████████████████▏              | 614 kB 5.1 MB/s eta 0:00:01\r\u001b[K     |█████████████████▌              | 624 kB 5.1 MB/s eta 0:00:01\r\u001b[K     |█████████████████▊              | 634 kB 5.1 MB/s eta 0:00:01\r\u001b[K     |██████████████████              | 645 kB 5.1 MB/s eta 0:00:01\r\u001b[K     |██████████████████▍             | 655 kB 5.1 MB/s eta 0:00:01\r\u001b[K     |██████████████████▋             | 665 kB 5.1 MB/s eta 0:00:01\r\u001b[K     |███████████████████             | 675 kB 5.1 MB/s eta 0:00:01\r\u001b[K     |███████████████████▏            | 686 kB 5.1 MB/s eta 0:00:01\r\u001b[K     |███████████████████▌            | 696 kB 5.1 MB/s eta 0:00:01\r\u001b[K     |███████████████████▊            | 706 kB 5.1 MB/s eta 0:00:01\r\u001b[K     |████████████████████            | 716 kB 5.1 MB/s eta 0:00:01\r\u001b[K     |████████████████████▍           | 727 kB 5.1 MB/s eta 0:00:01\r\u001b[K     |████████████████████▋           | 737 kB 5.1 MB/s eta 0:00:01\r\u001b[K     |█████████████████████           | 747 kB 5.1 MB/s eta 0:00:01\r\u001b[K     |█████████████████████▏          | 757 kB 5.1 MB/s eta 0:00:01\r\u001b[K     |█████████████████████▌          | 768 kB 5.1 MB/s eta 0:00:01\r\u001b[K     |█████████████████████▊          | 778 kB 5.1 MB/s eta 0:00:01\r\u001b[K     |██████████████████████          | 788 kB 5.1 MB/s eta 0:00:01\r\u001b[K     |██████████████████████▍         | 798 kB 5.1 MB/s eta 0:00:01\r\u001b[K     |██████████████████████▋         | 808 kB 5.1 MB/s eta 0:00:01\r\u001b[K     |███████████████████████         | 819 kB 5.1 MB/s eta 0:00:01\r\u001b[K     |███████████████████████▏        | 829 kB 5.1 MB/s eta 0:00:01\r\u001b[K     |███████████████████████▌        | 839 kB 5.1 MB/s eta 0:00:01\r\u001b[K     |███████████████████████▉        | 849 kB 5.1 MB/s eta 0:00:01\r\u001b[K     |████████████████████████        | 860 kB 5.1 MB/s eta 0:00:01\r\u001b[K     |████████████████████████▍       | 870 kB 5.1 MB/s eta 0:00:01\r\u001b[K     |████████████████████████▋       | 880 kB 5.1 MB/s eta 0:00:01\r\u001b[K     |█████████████████████████       | 890 kB 5.1 MB/s eta 0:00:01\r\u001b[K     |█████████████████████████▏      | 901 kB 5.1 MB/s eta 0:00:01\r\u001b[K     |█████████████████████████▌      | 911 kB 5.1 MB/s eta 0:00:01\r\u001b[K     |█████████████████████████▉      | 921 kB 5.1 MB/s eta 0:00:01\r\u001b[K     |██████████████████████████      | 931 kB 5.1 MB/s eta 0:00:01\r\u001b[K     |██████████████████████████▍     | 942 kB 5.1 MB/s eta 0:00:01\r\u001b[K     |██████████████████████████▋     | 952 kB 5.1 MB/s eta 0:00:01\r\u001b[K     |███████████████████████████     | 962 kB 5.1 MB/s eta 0:00:01\r\u001b[K     |███████████████████████████▏    | 972 kB 5.1 MB/s eta 0:00:01\r\u001b[K     |███████████████████████████▌    | 983 kB 5.1 MB/s eta 0:00:01\r\u001b[K     |███████████████████████████▉    | 993 kB 5.1 MB/s eta 0:00:01\r\u001b[K     |████████████████████████████    | 1.0 MB 5.1 MB/s eta 0:00:01\r\u001b[K     |████████████████████████████▍   | 1.0 MB 5.1 MB/s eta 0:00:01\r\u001b[K     |████████████████████████████▋   | 1.0 MB 5.1 MB/s eta 0:00:01\r\u001b[K     |█████████████████████████████   | 1.0 MB 5.1 MB/s eta 0:00:01\r\u001b[K     |█████████████████████████████▎  | 1.0 MB 5.1 MB/s eta 0:00:01\r\u001b[K     |█████████████████████████████▌  | 1.1 MB 5.1 MB/s eta 0:00:01\r\u001b[K     |█████████████████████████████▉  | 1.1 MB 5.1 MB/s eta 0:00:01\r\u001b[K     |██████████████████████████████  | 1.1 MB 5.1 MB/s eta 0:00:01\r\u001b[K     |██████████████████████████████▍ | 1.1 MB 5.1 MB/s eta 0:00:01\r\u001b[K     |██████████████████████████████▋ | 1.1 MB 5.1 MB/s eta 0:00:01\r\u001b[K     |███████████████████████████████ | 1.1 MB 5.1 MB/s eta 0:00:01\r\u001b[K     |███████████████████████████████▎| 1.1 MB 5.1 MB/s eta 0:00:01\r\u001b[K     |███████████████████████████████▌| 1.1 MB 5.1 MB/s eta 0:00:01\r\u001b[K     |███████████████████████████████▉| 1.1 MB 5.1 MB/s eta 0:00:01\r\u001b[K     |████████████████████████████████| 1.1 MB 5.1 MB/s \n",
            "\u001b[?25h  Installing build dependencies ... \u001b[?25l\u001b[?25hdone\n",
            "  Getting requirements to build wheel ... \u001b[?25l\u001b[?25hdone\n",
            "  Installing backend dependencies ... \u001b[?25l\u001b[?25hdone\n",
            "    Preparing wheel metadata ... \u001b[?25l\u001b[?25hdone\n",
            "Requirement already satisfied: scipy>=0.16 in /usr/local/lib/python3.7/dist-packages (from implicit==0.4.8) (1.4.1)\n",
            "Requirement already satisfied: numpy in /usr/local/lib/python3.7/dist-packages (from implicit==0.4.8) (1.19.5)\n",
            "Requirement already satisfied: tqdm>=4.27 in /usr/local/lib/python3.7/dist-packages (from implicit==0.4.8) (4.62.3)\n",
            "Building wheels for collected packages: implicit\n",
            "  Building wheel for implicit (PEP 517) ... \u001b[?25l\u001b[?25hdone\n",
            "  Created wheel for implicit: filename=implicit-0.4.8-cp37-cp37m-linux_x86_64.whl size=4606575 sha256=e34fae89466743cac5cce2950ea519426e518607f299e1eceb8a7c82cc39edc7\n",
            "  Stored in directory: /root/.cache/pip/wheels/88/e6/34/25e73cccbaf1a961154bb562a5f86123b68fdbf40e306073d6\n",
            "Successfully built implicit\n",
            "Installing collected packages: implicit\n",
            "Successfully installed implicit-0.4.8\n"
          ]
        }
      ]
    },
    {
      "cell_type": "code",
      "metadata": {
        "id": "-KCkJq_HCt8b"
      },
      "source": [
        "import pandas as pd\n",
        "import numpy as np\n",
        "\n",
        "# Для работы с матрицами\n",
        "from scipy.sparse import csr_matrix\n",
        "\n",
        "# Матричная факторизация\n",
        "from implicit.als import AlternatingLeastSquares\n",
        "from implicit.nearest_neighbours import ItemItemRecommender\n",
        "from implicit.nearest_neighbours import bm25_weight, tfidf_weight\n",
        "\n",
        "class MainRecommender:\n",
        "  \"\"\" Рекомендаци, которые можно получить из ALS\n",
        "\n",
        "  Input\n",
        "  -----\n",
        "  user item_matrix: pd.DataFrame\n",
        "    Матрица взаимодействий user-item\n",
        "  \"\"\"\n",
        "\n",
        "  def __init__(self, data, weighting=True):\n",
        "    # your_code (не обязательно)\n",
        "    self.user_item_matrix = self.prepare_matrix(data) # pd.DataFrame\n",
        "    self.id_to_itemid, self.id_to_itemid,self.itemid_to_id, self.userid_to_id = prepare_dicts(self.user_item_matrix)\n",
        "\n",
        "    if weighting:\n",
        "      self.user_item_matrix = bm25_weight(self.user_item_matrix.T).T\n",
        "    \n",
        "    self.model = self.fit(self.user_item_matrix)\n",
        "    self.own_recommender = self.fit_own_recommender(self.user_item_matrix)\n",
        "\n",
        "  @staticmethod\n",
        "  def prepare_matrix(data):\n",
        "    \n",
        "    # your code\n",
        "    user_item_matrix = pd.pivot_table(data, \n",
        "                                  index='user_id', columns='item_id', \n",
        "                                  values='quantity', \n",
        "                                  aggfunc='count', \n",
        "                                  fill_value=0\n",
        "                                 )\n",
        "    user_item_matrix = user_item_matrix.astype(float) # необходимый тип матрицы для implicit\n",
        "\n",
        "\n",
        "    return user_item_matrix\n",
        "\n",
        "  @staticmethod\n",
        "  def prepare_dicts(user_item_matrix):\n",
        "    \"\"\" Подготавливает вспомогательные словари \"\"\"\n",
        "\n",
        "    userids = user_item_matrix.index.values\n",
        "    itemids = user_item_matrix.columns.values\n",
        "\n",
        "    matrix_userids = np.arange(len(userids))\n",
        "    matrix_itemids = np.arange(len(itemids))\n",
        "\n",
        "    id_to_itemid = dict(zip(matrix_itemids, itemids))\n",
        "    id_to_userid = dict(zip(matrix_userids, userids))\n",
        "\n",
        "    itemid_to_id = dict(zip(itemids, matrix_itemids))\n",
        "    userid_to_id = dict(zip(userids, matrix_userids))\n",
        "\n",
        "    return id_to_itemid, id_to_userid, itemid_to_id, userid_to_id\n",
        "\n",
        "  @staticmethod\n",
        "  def fit_own_recommender(user_item_matrix):\n",
        "    \"\"\"Обучает модель, которая рекомендует товары, среди товаров, купленных юзером\"\"\"\n",
        "\n",
        "    own_recommender = ItemItemRecommender(K=1, num_threads=4)\n",
        "    own_recommender.fit(csr_matrix(user_item_matrix).T.tocsr())\n",
        "\n",
        "    return own_recommender\n",
        "\n",
        "  @staticmethod\n",
        "  def fit(user_item_matrix, n_factors=20, regularization=0.001, iterations=15, num_threads=4):\n",
        "    \"\"\"Обучает ALS\"\"\"\n",
        "\n",
        "    model = AlternatingLeasSquares(factors=factors, regularization=regularization,\n",
        "                                   iterations=iterations,\n",
        "                                   num_threads=num_threads)\n",
        "    model.fit(csr_matrix(self.user_item_matrix).T.tocsr())\n",
        "\n",
        "    return model\n",
        "\n",
        "  def get_simular_users_recommendation(self, user, N=5):\n",
        "    \"\"\"Рекомендуем товары, похожие на топ-N купленных юзером товаров\"\"\"\n",
        "\n",
        "    # your_code\n",
        "    # Практически полностью реализовали на прошлом вебинаре\n",
        "    top_user_items = user_item_matrix.loc[self.user_item_matrix[user_id] == user].head(N)\n",
        "    for id_item in top_user_items:\n",
        "      item = model.similar_items(id=userid_to_id[user], 1)\n",
        "      res.append(item)\n",
        "                                    \n",
        "\n",
        "    assert len(res) == N, 'Количество рекомендаций != {}'.format(N)\n",
        "    return res\n",
        "\n",
        "  def get_simular_users_recommendation(self, user, N=5):\n",
        "    \"\"\" Рекомендуем топ-N товаров, среди купленных похожими юзерами\"\"\"\n",
        "    model.similar_users(self.userid_to_id[user], N=5)\n",
        "    # your code\n",
        "    assert len(res) == N, 'Количество рекомендаций != {}'.format(N)\n",
        "    return res"
      ],
      "execution_count": null,
      "outputs": []
    },
    {
      "cell_type": "code",
      "metadata": {
        "id": "TKRwnN9XWTAn"
      },
      "source": [
        "def get_recommendations(user, model, N=5):\n",
        "    res = [id_to_itemid[rec[0]] for rec in \n",
        "                    model.recommend(userid=userid_to_id[user], \n",
        "                                    user_items=csr_matrix(user_item_matrix).tocsr(),   # на вход user-item matrix\n",
        "                                    N=N, \n",
        "                                    filter_already_liked_items=False, \n",
        "                                    filter_items=[itemid_to_id[999999]],  # !!! \n",
        "                                    recalculate_user=True)]\n",
        "    return res"
      ],
      "execution_count": null,
      "outputs": []
    },
    {
      "cell_type": "code",
      "metadata": {
        "id": "2kjW48iCcdcM"
      },
      "source": [
        "def prefilter_items(data):\n",
        "    # Уберем самые популярные товары (их и так купят)\n",
        "    popularity = data_train.groupby('item_id')['user_id'].nunique().reset_index() / data_train['user_id'].nunique()\n",
        "    popularity.rename(columns={'user_id': 'share_unique_users'}, inplace=True)\n",
        "    \n",
        "    top_popular = popularity[popularity['share_unique_users'] > 0.5].item_id.tolist()\n",
        "    data = data[~data['item_id'].isin(top_popular)]\n",
        "    \n",
        "    # Уберем самые НЕ популярные товары (их и так НЕ купят)\n",
        "    top_notpopular = popularity[popularity['share_unique_users'] < 0.01].item_id.tolist()\n",
        "    data = data[~data['item_id'].isin(top_notpopular)]\n",
        "    \n",
        "    # Уберем товары, которые не продавались за последние 12 месяцев\n",
        "    \n",
        "    # Уберем не интересные для рекоммендаций категории (department)\n",
        "    \n",
        "    # Уберем слишком дешевые товары (на них не заработаем). 1 покупка из рассылок стоит 60 руб. \n",
        "    \n",
        "    # Уберем слишком дорогие товарыs\n",
        "    \n",
        "    # ..."
      ],
      "execution_count": null,
      "outputs": []
    }
  ]
}