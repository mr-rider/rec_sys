{
  "nbformat": 4,
  "nbformat_minor": 0,
  "metadata": {
    "colab": {
      "name": "homework2.ipynb",
      "provenance": [],
      "collapsed_sections": []
    },
    "kernelspec": {
      "name": "python3",
      "display_name": "Python 3"
    },
    "language_info": {
      "name": "python"
    }
  },
  "cells": [
    {
      "cell_type": "code",
      "metadata": {
        "colab": {
          "base_uri": "https://localhost:8080/"
        },
        "id": "SO3JZM0Pv1K1",
        "outputId": "f9687785-56df-4d0c-f0a1-1fc14d253056"
      },
      "source": [
        "pip install implicit==0.4.8"
      ],
      "execution_count": 1,
      "outputs": [
        {
          "output_type": "stream",
          "name": "stdout",
          "text": [
            "Collecting implicit==0.4.8\n",
            "  Downloading implicit-0.4.8.tar.gz (1.1 MB)\n",
            "\u001b[?25l\r\u001b[K     |▎                               | 10 kB 11.4 MB/s eta 0:00:01\r\u001b[K     |▋                               | 20 kB 14.2 MB/s eta 0:00:01\r\u001b[K     |▉                               | 30 kB 17.6 MB/s eta 0:00:01\r\u001b[K     |█▏                              | 40 kB 6.6 MB/s eta 0:00:01\r\u001b[K     |█▍                              | 51 kB 6.1 MB/s eta 0:00:01\r\u001b[K     |█▊                              | 61 kB 5.5 MB/s eta 0:00:01\r\u001b[K     |██                              | 71 kB 5.2 MB/s eta 0:00:01\r\u001b[K     |██▎                             | 81 kB 5.8 MB/s eta 0:00:01\r\u001b[K     |██▋                             | 92 kB 4.9 MB/s eta 0:00:01\r\u001b[K     |██▉                             | 102 kB 5.3 MB/s eta 0:00:01\r\u001b[K     |███▏                            | 112 kB 5.3 MB/s eta 0:00:01\r\u001b[K     |███▍                            | 122 kB 5.3 MB/s eta 0:00:01\r\u001b[K     |███▊                            | 133 kB 5.3 MB/s eta 0:00:01\r\u001b[K     |████                            | 143 kB 5.3 MB/s eta 0:00:01\r\u001b[K     |████▎                           | 153 kB 5.3 MB/s eta 0:00:01\r\u001b[K     |████▋                           | 163 kB 5.3 MB/s eta 0:00:01\r\u001b[K     |████▉                           | 174 kB 5.3 MB/s eta 0:00:01\r\u001b[K     |█████▏                          | 184 kB 5.3 MB/s eta 0:00:01\r\u001b[K     |█████▍                          | 194 kB 5.3 MB/s eta 0:00:01\r\u001b[K     |█████▊                          | 204 kB 5.3 MB/s eta 0:00:01\r\u001b[K     |██████                          | 215 kB 5.3 MB/s eta 0:00:01\r\u001b[K     |██████▎                         | 225 kB 5.3 MB/s eta 0:00:01\r\u001b[K     |██████▋                         | 235 kB 5.3 MB/s eta 0:00:01\r\u001b[K     |██████▉                         | 245 kB 5.3 MB/s eta 0:00:01\r\u001b[K     |███████▏                        | 256 kB 5.3 MB/s eta 0:00:01\r\u001b[K     |███████▌                        | 266 kB 5.3 MB/s eta 0:00:01\r\u001b[K     |███████▊                        | 276 kB 5.3 MB/s eta 0:00:01\r\u001b[K     |████████                        | 286 kB 5.3 MB/s eta 0:00:01\r\u001b[K     |████████▎                       | 296 kB 5.3 MB/s eta 0:00:01\r\u001b[K     |████████▋                       | 307 kB 5.3 MB/s eta 0:00:01\r\u001b[K     |████████▉                       | 317 kB 5.3 MB/s eta 0:00:01\r\u001b[K     |█████████▏                      | 327 kB 5.3 MB/s eta 0:00:01\r\u001b[K     |█████████▌                      | 337 kB 5.3 MB/s eta 0:00:01\r\u001b[K     |█████████▊                      | 348 kB 5.3 MB/s eta 0:00:01\r\u001b[K     |██████████                      | 358 kB 5.3 MB/s eta 0:00:01\r\u001b[K     |██████████▎                     | 368 kB 5.3 MB/s eta 0:00:01\r\u001b[K     |██████████▋                     | 378 kB 5.3 MB/s eta 0:00:01\r\u001b[K     |██████████▉                     | 389 kB 5.3 MB/s eta 0:00:01\r\u001b[K     |███████████▏                    | 399 kB 5.3 MB/s eta 0:00:01\r\u001b[K     |███████████▌                    | 409 kB 5.3 MB/s eta 0:00:01\r\u001b[K     |███████████▊                    | 419 kB 5.3 MB/s eta 0:00:01\r\u001b[K     |████████████                    | 430 kB 5.3 MB/s eta 0:00:01\r\u001b[K     |████████████▎                   | 440 kB 5.3 MB/s eta 0:00:01\r\u001b[K     |████████████▋                   | 450 kB 5.3 MB/s eta 0:00:01\r\u001b[K     |█████████████                   | 460 kB 5.3 MB/s eta 0:00:01\r\u001b[K     |█████████████▏                  | 471 kB 5.3 MB/s eta 0:00:01\r\u001b[K     |█████████████▌                  | 481 kB 5.3 MB/s eta 0:00:01\r\u001b[K     |█████████████▊                  | 491 kB 5.3 MB/s eta 0:00:01\r\u001b[K     |██████████████                  | 501 kB 5.3 MB/s eta 0:00:01\r\u001b[K     |██████████████▎                 | 512 kB 5.3 MB/s eta 0:00:01\r\u001b[K     |██████████████▋                 | 522 kB 5.3 MB/s eta 0:00:01\r\u001b[K     |███████████████                 | 532 kB 5.3 MB/s eta 0:00:01\r\u001b[K     |███████████████▏                | 542 kB 5.3 MB/s eta 0:00:01\r\u001b[K     |███████████████▌                | 552 kB 5.3 MB/s eta 0:00:01\r\u001b[K     |███████████████▊                | 563 kB 5.3 MB/s eta 0:00:01\r\u001b[K     |████████████████                | 573 kB 5.3 MB/s eta 0:00:01\r\u001b[K     |████████████████▎               | 583 kB 5.3 MB/s eta 0:00:01\r\u001b[K     |████████████████▋               | 593 kB 5.3 MB/s eta 0:00:01\r\u001b[K     |█████████████████               | 604 kB 5.3 MB/s eta 0:00:01\r\u001b[K     |█████████████████▏              | 614 kB 5.3 MB/s eta 0:00:01\r\u001b[K     |█████████████████▌              | 624 kB 5.3 MB/s eta 0:00:01\r\u001b[K     |█████████████████▊              | 634 kB 5.3 MB/s eta 0:00:01\r\u001b[K     |██████████████████              | 645 kB 5.3 MB/s eta 0:00:01\r\u001b[K     |██████████████████▍             | 655 kB 5.3 MB/s eta 0:00:01\r\u001b[K     |██████████████████▋             | 665 kB 5.3 MB/s eta 0:00:01\r\u001b[K     |███████████████████             | 675 kB 5.3 MB/s eta 0:00:01\r\u001b[K     |███████████████████▏            | 686 kB 5.3 MB/s eta 0:00:01\r\u001b[K     |███████████████████▌            | 696 kB 5.3 MB/s eta 0:00:01\r\u001b[K     |███████████████████▊            | 706 kB 5.3 MB/s eta 0:00:01\r\u001b[K     |████████████████████            | 716 kB 5.3 MB/s eta 0:00:01\r\u001b[K     |████████████████████▍           | 727 kB 5.3 MB/s eta 0:00:01\r\u001b[K     |████████████████████▋           | 737 kB 5.3 MB/s eta 0:00:01\r\u001b[K     |█████████████████████           | 747 kB 5.3 MB/s eta 0:00:01\r\u001b[K     |█████████████████████▏          | 757 kB 5.3 MB/s eta 0:00:01\r\u001b[K     |█████████████████████▌          | 768 kB 5.3 MB/s eta 0:00:01\r\u001b[K     |█████████████████████▊          | 778 kB 5.3 MB/s eta 0:00:01\r\u001b[K     |██████████████████████          | 788 kB 5.3 MB/s eta 0:00:01\r\u001b[K     |██████████████████████▍         | 798 kB 5.3 MB/s eta 0:00:01\r\u001b[K     |██████████████████████▋         | 808 kB 5.3 MB/s eta 0:00:01\r\u001b[K     |███████████████████████         | 819 kB 5.3 MB/s eta 0:00:01\r\u001b[K     |███████████████████████▏        | 829 kB 5.3 MB/s eta 0:00:01\r\u001b[K     |███████████████████████▌        | 839 kB 5.3 MB/s eta 0:00:01\r\u001b[K     |███████████████████████▉        | 849 kB 5.3 MB/s eta 0:00:01\r\u001b[K     |████████████████████████        | 860 kB 5.3 MB/s eta 0:00:01\r\u001b[K     |████████████████████████▍       | 870 kB 5.3 MB/s eta 0:00:01\r\u001b[K     |████████████████████████▋       | 880 kB 5.3 MB/s eta 0:00:01\r\u001b[K     |█████████████████████████       | 890 kB 5.3 MB/s eta 0:00:01\r\u001b[K     |█████████████████████████▏      | 901 kB 5.3 MB/s eta 0:00:01\r\u001b[K     |█████████████████████████▌      | 911 kB 5.3 MB/s eta 0:00:01\r\u001b[K     |█████████████████████████▉      | 921 kB 5.3 MB/s eta 0:00:01\r\u001b[K     |██████████████████████████      | 931 kB 5.3 MB/s eta 0:00:01\r\u001b[K     |██████████████████████████▍     | 942 kB 5.3 MB/s eta 0:00:01\r\u001b[K     |██████████████████████████▋     | 952 kB 5.3 MB/s eta 0:00:01\r\u001b[K     |███████████████████████████     | 962 kB 5.3 MB/s eta 0:00:01\r\u001b[K     |███████████████████████████▏    | 972 kB 5.3 MB/s eta 0:00:01\r\u001b[K     |███████████████████████████▌    | 983 kB 5.3 MB/s eta 0:00:01\r\u001b[K     |███████████████████████████▉    | 993 kB 5.3 MB/s eta 0:00:01\r\u001b[K     |████████████████████████████    | 1.0 MB 5.3 MB/s eta 0:00:01\r\u001b[K     |████████████████████████████▍   | 1.0 MB 5.3 MB/s eta 0:00:01\r\u001b[K     |████████████████████████████▋   | 1.0 MB 5.3 MB/s eta 0:00:01\r\u001b[K     |█████████████████████████████   | 1.0 MB 5.3 MB/s eta 0:00:01\r\u001b[K     |█████████████████████████████▎  | 1.0 MB 5.3 MB/s eta 0:00:01\r\u001b[K     |█████████████████████████████▌  | 1.1 MB 5.3 MB/s eta 0:00:01\r\u001b[K     |█████████████████████████████▉  | 1.1 MB 5.3 MB/s eta 0:00:01\r\u001b[K     |██████████████████████████████  | 1.1 MB 5.3 MB/s eta 0:00:01\r\u001b[K     |██████████████████████████████▍ | 1.1 MB 5.3 MB/s eta 0:00:01\r\u001b[K     |██████████████████████████████▋ | 1.1 MB 5.3 MB/s eta 0:00:01\r\u001b[K     |███████████████████████████████ | 1.1 MB 5.3 MB/s eta 0:00:01\r\u001b[K     |███████████████████████████████▎| 1.1 MB 5.3 MB/s eta 0:00:01\r\u001b[K     |███████████████████████████████▌| 1.1 MB 5.3 MB/s eta 0:00:01\r\u001b[K     |███████████████████████████████▉| 1.1 MB 5.3 MB/s eta 0:00:01\r\u001b[K     |████████████████████████████████| 1.1 MB 5.3 MB/s \n",
            "\u001b[?25h  Installing build dependencies ... \u001b[?25l\u001b[?25hdone\n",
            "  Getting requirements to build wheel ... \u001b[?25l\u001b[?25hdone\n",
            "  Installing backend dependencies ... \u001b[?25l\u001b[?25hdone\n",
            "    Preparing wheel metadata ... \u001b[?25l\u001b[?25hdone\n",
            "Requirement already satisfied: numpy in /usr/local/lib/python3.7/dist-packages (from implicit==0.4.8) (1.19.5)\n",
            "Requirement already satisfied: scipy>=0.16 in /usr/local/lib/python3.7/dist-packages (from implicit==0.4.8) (1.4.1)\n",
            "Requirement already satisfied: tqdm>=4.27 in /usr/local/lib/python3.7/dist-packages (from implicit==0.4.8) (4.62.3)\n",
            "Building wheels for collected packages: implicit\n",
            "  Building wheel for implicit (PEP 517) ... \u001b[?25l\u001b[?25hdone\n",
            "  Created wheel for implicit: filename=implicit-0.4.8-cp37-cp37m-linux_x86_64.whl size=4606535 sha256=f188b254e9b4e4f9a8ed19c3fc184aee33ef33e73a028b9ea21053d2e26d1dde\n",
            "  Stored in directory: /root/.cache/pip/wheels/88/e6/34/25e73cccbaf1a961154bb562a5f86123b68fdbf40e306073d6\n",
            "Successfully built implicit\n",
            "Installing collected packages: implicit\n",
            "Successfully installed implicit-0.4.8\n"
          ]
        }
      ]
    },
    {
      "cell_type": "code",
      "metadata": {
        "id": "chx5pJa4vuSB"
      },
      "source": [
        "import pandas as pd\n",
        "import numpy as np\n",
        "import matplotlib.pyplot as plt\n",
        "%matplotlib inline\n",
        "\n",
        "# Для работы с матрицами\n",
        "from scipy.sparse import csr_matrix, coo_matrix\n",
        "\n",
        "# Детерминированные алгоритмы\n",
        "from implicit.nearest_neighbours import ItemItemRecommender, CosineRecommender, TFIDFRecommender, BM25Recommender\n",
        "\n",
        "# Метрики\n",
        "from implicit.evaluation import train_test_split\n",
        "from implicit.evaluation import precision_at_k, mean_average_precision_at_k, AUC_at_k, ndcg_at_k"
      ],
      "execution_count": 2,
      "outputs": []
    },
    {
      "cell_type": "code",
      "metadata": {
        "colab": {
          "base_uri": "https://localhost:8080/"
        },
        "id": "kW5DVAabzRVU",
        "outputId": "e769091f-db2a-42bd-9392-bda3b27482eb"
      },
      "source": [
        "from google.colab import drive\n",
        "drive.mount('/content/drive')"
      ],
      "execution_count": 3,
      "outputs": [
        {
          "output_type": "stream",
          "name": "stdout",
          "text": [
            "Mounted at /content/drive\n"
          ]
        }
      ]
    },
    {
      "cell_type": "code",
      "metadata": {
        "id": "2Pt2v_7n0DC-"
      },
      "source": [
        "root = '/content/drive/My Drive/rec_sys/lesson2/'"
      ],
      "execution_count": 4,
      "outputs": []
    },
    {
      "cell_type": "code",
      "metadata": {
        "colab": {
          "base_uri": "https://localhost:8080/",
          "height": 112
        },
        "id": "ujY2HX7Wx5XW",
        "outputId": "112dacf4-1e49-4715-a297-00bf24e2f0f8"
      },
      "source": [
        "data = pd.read_csv(root + '/retail_train.csv')\n",
        "data.head(2)"
      ],
      "execution_count": 5,
      "outputs": [
        {
          "output_type": "execute_result",
          "data": {
            "text/html": [
              "<div>\n",
              "<style scoped>\n",
              "    .dataframe tbody tr th:only-of-type {\n",
              "        vertical-align: middle;\n",
              "    }\n",
              "\n",
              "    .dataframe tbody tr th {\n",
              "        vertical-align: top;\n",
              "    }\n",
              "\n",
              "    .dataframe thead th {\n",
              "        text-align: right;\n",
              "    }\n",
              "</style>\n",
              "<table border=\"1\" class=\"dataframe\">\n",
              "  <thead>\n",
              "    <tr style=\"text-align: right;\">\n",
              "      <th></th>\n",
              "      <th>user_id</th>\n",
              "      <th>basket_id</th>\n",
              "      <th>day</th>\n",
              "      <th>item_id</th>\n",
              "      <th>quantity</th>\n",
              "      <th>sales_value</th>\n",
              "      <th>store_id</th>\n",
              "      <th>retail_disc</th>\n",
              "      <th>trans_time</th>\n",
              "      <th>week_no</th>\n",
              "      <th>coupon_disc</th>\n",
              "      <th>coupon_match_disc</th>\n",
              "    </tr>\n",
              "  </thead>\n",
              "  <tbody>\n",
              "    <tr>\n",
              "      <th>0</th>\n",
              "      <td>2375</td>\n",
              "      <td>26984851472</td>\n",
              "      <td>1</td>\n",
              "      <td>1004906</td>\n",
              "      <td>1</td>\n",
              "      <td>1.39</td>\n",
              "      <td>364</td>\n",
              "      <td>-0.6</td>\n",
              "      <td>1631</td>\n",
              "      <td>1</td>\n",
              "      <td>0.0</td>\n",
              "      <td>0.0</td>\n",
              "    </tr>\n",
              "    <tr>\n",
              "      <th>1</th>\n",
              "      <td>2375</td>\n",
              "      <td>26984851472</td>\n",
              "      <td>1</td>\n",
              "      <td>1033142</td>\n",
              "      <td>1</td>\n",
              "      <td>0.82</td>\n",
              "      <td>364</td>\n",
              "      <td>0.0</td>\n",
              "      <td>1631</td>\n",
              "      <td>1</td>\n",
              "      <td>0.0</td>\n",
              "      <td>0.0</td>\n",
              "    </tr>\n",
              "  </tbody>\n",
              "</table>\n",
              "</div>"
            ],
            "text/plain": [
              "   user_id    basket_id  day  ...  week_no  coupon_disc  coupon_match_disc\n",
              "0     2375  26984851472    1  ...        1          0.0                0.0\n",
              "1     2375  26984851472    1  ...        1          0.0                0.0\n",
              "\n",
              "[2 rows x 12 columns]"
            ]
          },
          "metadata": {},
          "execution_count": 5
        }
      ]
    },
    {
      "cell_type": "code",
      "metadata": {
        "id": "ySHI0vtox8kI"
      },
      "source": [
        "test_size_weeks = 3\n",
        "\n",
        "data_train = data[data['week_no'] < data['week_no'].max() - test_size_weeks]\n",
        "data_test = data[data['week_no'] >= data['week_no'].max() - test_size_weeks]"
      ],
      "execution_count": 6,
      "outputs": []
    },
    {
      "cell_type": "code",
      "metadata": {
        "colab": {
          "base_uri": "https://localhost:8080/"
        },
        "id": "XQmWPlhD4z8j",
        "outputId": "ee29ac4c-9691-41eb-9e41-b14cc1e17919"
      },
      "source": [
        "data = data_train['item_id'].unique()\n",
        "data"
      ],
      "execution_count": 7,
      "outputs": [
        {
          "output_type": "execute_result",
          "data": {
            "text/plain": [
              "array([ 1004906,  1033142,  1036325, ..., 15722756, 17170636, 15716393])"
            ]
          },
          "metadata": {},
          "execution_count": 7
        }
      ]
    },
    {
      "cell_type": "code",
      "metadata": {
        "id": "7C_h4vtw4J61"
      },
      "source": [
        "df_2 = pd.DataFrame(data, columns=['item_id'])"
      ],
      "execution_count": 8,
      "outputs": []
    },
    {
      "cell_type": "code",
      "metadata": {
        "id": "i1iwQK5L6oMX"
      },
      "source": [
        "weights = data_train.groupby(['item_id'])['sales_value'].sum()"
      ],
      "execution_count": 9,
      "outputs": []
    },
    {
      "cell_type": "code",
      "metadata": {
        "id": "tncgdJOB3Nkn"
      },
      "source": [
        "weigt_id = pd.DataFrame(weights, columns=['sales_value'])"
      ],
      "execution_count": 10,
      "outputs": []
    },
    {
      "cell_type": "code",
      "metadata": {
        "id": "AHR9cM2s_qiA"
      },
      "source": [
        "item_weights = pd.merge(df_2, weigt_id, on='item_id')"
      ],
      "execution_count": 11,
      "outputs": []
    },
    {
      "cell_type": "code",
      "metadata": {
        "colab": {
          "base_uri": "https://localhost:8080/",
          "height": 206
        },
        "id": "7WNn-T8oDLRJ",
        "outputId": "41f2f835-3e37-49ac-be1d-0ab004fe3fd9"
      },
      "source": [
        "item_weights.head(5)"
      ],
      "execution_count": 12,
      "outputs": [
        {
          "output_type": "execute_result",
          "data": {
            "text/html": [
              "<div>\n",
              "<style scoped>\n",
              "    .dataframe tbody tr th:only-of-type {\n",
              "        vertical-align: middle;\n",
              "    }\n",
              "\n",
              "    .dataframe tbody tr th {\n",
              "        vertical-align: top;\n",
              "    }\n",
              "\n",
              "    .dataframe thead th {\n",
              "        text-align: right;\n",
              "    }\n",
              "</style>\n",
              "<table border=\"1\" class=\"dataframe\">\n",
              "  <thead>\n",
              "    <tr style=\"text-align: right;\">\n",
              "      <th></th>\n",
              "      <th>item_id</th>\n",
              "      <th>sales_value</th>\n",
              "    </tr>\n",
              "  </thead>\n",
              "  <tbody>\n",
              "    <tr>\n",
              "      <th>0</th>\n",
              "      <td>1004906</td>\n",
              "      <td>8232.66</td>\n",
              "    </tr>\n",
              "    <tr>\n",
              "      <th>1</th>\n",
              "      <td>1033142</td>\n",
              "      <td>2210.90</td>\n",
              "    </tr>\n",
              "    <tr>\n",
              "      <th>2</th>\n",
              "      <td>1036325</td>\n",
              "      <td>284.41</td>\n",
              "    </tr>\n",
              "    <tr>\n",
              "      <th>3</th>\n",
              "      <td>1082185</td>\n",
              "      <td>26029.96</td>\n",
              "    </tr>\n",
              "    <tr>\n",
              "      <th>4</th>\n",
              "      <td>8160430</td>\n",
              "      <td>296.94</td>\n",
              "    </tr>\n",
              "  </tbody>\n",
              "</table>\n",
              "</div>"
            ],
            "text/plain": [
              "   item_id  sales_value\n",
              "0  1004906      8232.66\n",
              "1  1033142      2210.90\n",
              "2  1036325       284.41\n",
              "3  1082185     26029.96\n",
              "4  8160430       296.94"
            ]
          },
          "metadata": {},
          "execution_count": 12
        }
      ]
    },
    {
      "cell_type": "markdown",
      "metadata": {
        "id": "tKW-M2m_yPV5"
      },
      "source": [
        "Задание 1. Weighted Random Recommendation\n",
        "\n",
        "Напишите код для случайных рекоммендаций, в которых вероятность рекомендовать товар прямо пропорциональна логарифму продаж\n",
        "\n",
        "    Можно сэмплировать товары случайно, но пропорционально какому-либо весу\n",
        "    Например, прямопропорционально популярности. Вес = log(sales_sum товара)\n"
      ]
    },
    {
      "cell_type": "code",
      "metadata": {
        "id": "zUBL9ZvByI75"
      },
      "source": [
        "def weighted_random_recommendation(items_weights, n=5):\n",
        "    \"\"\"Случайные рекоммендации\n",
        "    \n",
        "    Input\n",
        "    -----\n",
        "    items_weights: pd.DataFrame\n",
        "        Датафрейм со столбцами item_id, weight. Сумма weight по всем товарам = 1\n",
        "    \"\"\"\n",
        "    \n",
        "    # Подсказка: необходимо модифицировать функцию random_recommendation()\n",
        "    # your_code\n",
        "    items_weights = np.array(items_weights)\n",
        "    recs = np.random.choice(np.log(items_weights[:,1]), size = n, replace=False)\n",
        "    return recs.tolist()"
      ],
      "execution_count": 13,
      "outputs": []
    },
    {
      "cell_type": "code",
      "metadata": {
        "id": "aXc_iieZGdx3"
      },
      "source": [
        "items_weight_array = np.array(item_weights)"
      ],
      "execution_count": 14,
      "outputs": []
    },
    {
      "cell_type": "code",
      "metadata": {
        "colab": {
          "base_uri": "https://localhost:8080/"
        },
        "id": "_LAnggKwGmoO",
        "outputId": "9faf6a5d-d2d1-44bb-a765-47af54986458"
      },
      "source": [
        "print(items_weight_array[:,:])"
      ],
      "execution_count": 15,
      "outputs": [
        {
          "output_type": "stream",
          "name": "stdout",
          "text": [
            "[[1.0049060e+06 8.2326600e+03]\n",
            " [1.0331420e+06 2.2109000e+03]\n",
            " [1.0363250e+06 2.8441000e+02]\n",
            " ...\n",
            " [1.5722756e+07 1.0000000e+00]\n",
            " [1.7170636e+07 2.5000000e+01]\n",
            " [1.5716393e+07 7.7700000e+00]]\n"
          ]
        }
      ]
    },
    {
      "cell_type": "code",
      "metadata": {
        "id": "sc8YLZN2yg0N",
        "colab": {
          "base_uri": "https://localhost:8080/"
        },
        "outputId": "f893773c-b319-47a3-fb1d-a9a6329f96bf"
      },
      "source": [
        "%%time\n",
        "\n",
        "# your_code\n",
        "print(weighted_random_recommendation(item_weights,n=5))"
      ],
      "execution_count": 16,
      "outputs": [
        {
          "output_type": "stream",
          "name": "stdout",
          "text": [
            "[1.4085449700547104, 1.2499017362143359, 0.8285518175661483, 2.194999882314108, 2.6658383522929006]\n",
            "CPU times: user 11.2 ms, sys: 1.85 ms, total: 13.1 ms\n",
            "Wall time: 15.1 ms\n"
          ]
        },
        {
          "output_type": "stream",
          "name": "stderr",
          "text": [
            "/usr/local/lib/python3.7/dist-packages/ipykernel_launcher.py:13: RuntimeWarning: divide by zero encountered in log\n",
            "  del sys.path[0]\n"
          ]
        }
      ]
    },
    {
      "cell_type": "markdown",
      "metadata": {
        "id": "-_sxcQFlyuaR"
      },
      "source": [
        "Задание 2. Расчет метрик\n",
        "\n",
        "Рассчитайте Precision@5 для каждого алгоритма с помощью функции из вебинара 1. Какой алгоритм показывает лучшее качество?"
      ]
    },
    {
      "cell_type": "code",
      "metadata": {
        "id": "itGvsRerysIF",
        "colab": {
          "base_uri": "https://localhost:8080/",
          "height": 251
        },
        "outputId": "539c91ec-78f6-4c77-b806-ad099d622815"
      },
      "source": [
        "result = pd.read_csv(root + '/predictions_basic.csv')\n",
        "result.head(2)"
      ],
      "execution_count": 18,
      "outputs": [
        {
          "output_type": "execute_result",
          "data": {
            "text/html": [
              "<div>\n",
              "<style scoped>\n",
              "    .dataframe tbody tr th:only-of-type {\n",
              "        vertical-align: middle;\n",
              "    }\n",
              "\n",
              "    .dataframe tbody tr th {\n",
              "        vertical-align: top;\n",
              "    }\n",
              "\n",
              "    .dataframe thead th {\n",
              "        text-align: right;\n",
              "    }\n",
              "</style>\n",
              "<table border=\"1\" class=\"dataframe\">\n",
              "  <thead>\n",
              "    <tr style=\"text-align: right;\">\n",
              "      <th></th>\n",
              "      <th>user_id</th>\n",
              "      <th>actual</th>\n",
              "      <th>random_recommendation</th>\n",
              "      <th>popular_recommendation</th>\n",
              "      <th>itemitem</th>\n",
              "      <th>cosine</th>\n",
              "      <th>tfidf</th>\n",
              "      <th>own_purchases</th>\n",
              "    </tr>\n",
              "  </thead>\n",
              "  <tbody>\n",
              "    <tr>\n",
              "      <th>0</th>\n",
              "      <td>1</td>\n",
              "      <td>[  821867   834484   856942   865456   889248 ...</td>\n",
              "      <td>[12605426, 1220599, 6391133, 9836719, 28015]</td>\n",
              "      <td>[6534178, 6533889, 1029743, 6534166, 1082185]</td>\n",
              "      <td>[999999, 1082185, 981760, 1127831, 995242]</td>\n",
              "      <td>[1082185, 999999, 981760, 1127831, 1098066]</td>\n",
              "      <td>[1082185, 981760, 1127831, 1098066, 961554]</td>\n",
              "      <td>[1082185, 1029743, 995785, 1004906, 1081177]</td>\n",
              "    </tr>\n",
              "    <tr>\n",
              "      <th>1</th>\n",
              "      <td>3</td>\n",
              "      <td>[  835476   851057   872021   878302   879948 ...</td>\n",
              "      <td>[88350, 7025500, 9677145, 7442949, 943671]</td>\n",
              "      <td>[6534178, 6533889, 1029743, 6534166, 1082185]</td>\n",
              "      <td>[999999, 1082185, 981760, 1098066, 995242]</td>\n",
              "      <td>[1082185, 1098066, 981760, 999999, 826249]</td>\n",
              "      <td>[1082185, 981760, 1098066, 826249, 883404]</td>\n",
              "      <td>[1082185, 1098066, 6534178, 1127831, 1068719]</td>\n",
              "    </tr>\n",
              "  </tbody>\n",
              "</table>\n",
              "</div>"
            ],
            "text/plain": [
              "   user_id  ...                                  own_purchases\n",
              "0        1  ...   [1082185, 1029743, 995785, 1004906, 1081177]\n",
              "1        3  ...  [1082185, 1098066, 6534178, 1127831, 1068719]\n",
              "\n",
              "[2 rows x 8 columns]"
            ]
          },
          "metadata": {},
          "execution_count": 18
        }
      ]
    },
    {
      "cell_type": "code",
      "metadata": {
        "id": "gJDdiY7gy4nu"
      },
      "source": [
        "# your_code\n",
        "def precision_at_k(recommended_list, bought_list, k=5):\n",
        "    \n",
        "    bought_list = np.array(bought_list)\n",
        "    recommended_list = np.array(recommended_list)\n",
        "    \n",
        "    bought_list = bought_list  # Тут нет [:k] !!\n",
        "    recommended_list = recommended_list[:k]\n",
        "    \n",
        "    flags = np.isin(bought_list, recommended_list)\n",
        "    \n",
        "    precision = flags.sum() / len(recommended_list)\n",
        "    \n",
        "    \n",
        "    return precision"
      ],
      "execution_count": 47,
      "outputs": []
    },
    {
      "cell_type": "code",
      "metadata": {
        "id": "3hFK5Wr9UEOg"
      },
      "source": [
        "result.apply(lambda row: precision_at_k(row['random_recommendation'], row['actual']), axis=1).mean()"
      ],
      "execution_count": null,
      "outputs": []
    },
    {
      "cell_type": "markdown",
      "metadata": {
        "id": "FWeeVdU4a5E4"
      },
      "source": [
        "\n",
        "\n",
        "0.0004897159647404506"
      ]
    },
    {
      "cell_type": "code",
      "metadata": {
        "id": "ESjpc3zXRuAm"
      },
      "source": [
        "result.apply(lambda row: precision_at_k(row['popular_recommendation'], row['actual'], k=5), axis=1).mean()"
      ],
      "execution_count": null,
      "outputs": []
    },
    {
      "cell_type": "markdown",
      "metadata": {
        "id": "mgz3kSMOa_8B"
      },
      "source": [
        "0.15523996082272082"
      ]
    },
    {
      "cell_type": "code",
      "metadata": {
        "id": "5CtSDrCVR64_"
      },
      "source": [
        "result.apply(lambda row: precision_at_k(row['itemitem'], row['actual']), axis=1).mean()"
      ],
      "execution_count": null,
      "outputs": []
    },
    {
      "cell_type": "markdown",
      "metadata": {
        "id": "-lbJaUmdbLMY"
      },
      "source": [
        "0.13692458374142857"
      ]
    },
    {
      "cell_type": "code",
      "metadata": {
        "id": "67OooE2jSCJW"
      },
      "source": [
        "result.apply(lambda row: precision_at_k(row['cosine'], row['actual']), axis=1).mean()"
      ],
      "execution_count": null,
      "outputs": []
    },
    {
      "cell_type": "markdown",
      "metadata": {
        "id": "PhN6DIiCbYLa"
      },
      "source": [
        "0.13290891283055686"
      ]
    },
    {
      "cell_type": "code",
      "metadata": {
        "id": "v3vQqugCSJib"
      },
      "source": [
        "result.apply(lambda row: precision_at_k(row['tfidf'], row['actual']), axis=1).mean()"
      ],
      "execution_count": null,
      "outputs": []
    },
    {
      "cell_type": "markdown",
      "metadata": {
        "id": "t_P01OaYbh7M"
      },
      "source": [
        "0.16092066601371002"
      ]
    },
    {
      "cell_type": "markdown",
      "metadata": {
        "id": "flNqrHJLbl2q"
      },
      "source": [
        "### Наилучшие результаты показал алгоритм \"tfidf\""
      ]
    }
  ]
}